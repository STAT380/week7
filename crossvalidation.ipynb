{
  "cells": [
    {
      "cell_type": "markdown",
      "id": "8e5206f2-595a-4f2d-8a53-f54da55add44",
      "metadata": {},
      "source": [
        "# Agenda\n",
        "- CV\n",
        "- Gradient Descent\n",
        "- Logistic Regression"
      ]
    },
    {
      "cell_type": "code",
      "execution_count": 3,
      "id": "ffc08b2e-9da7-43b5-a298-01c51cb0aa34",
      "metadata": {
        "vscode": {
          "languageId": "r"
        }
      },
      "outputs": [
        {
          "name": "stderr",
          "output_type": "stream",
          "text": [
            "Loading required package: torch\n",
            "\n",
            "Warning message in library(package, lib.loc = lib.loc, character.only = TRUE, logical.return = TRUE, :\n",
            "\"there is no package called 'torch'\"\n",
            "Loading required package: mlbench\n",
            "\n",
            "Warning message in library(package, lib.loc = lib.loc, character.only = TRUE, logical.return = TRUE, :\n",
            "\"there is no package called 'mlbench'\"\n"
          ]
        },
        {
          "data": {
            "text/html": [
              "<style>\n",
              ".dl-inline {width: auto; margin:0; padding: 0}\n",
              ".dl-inline>dt, .dl-inline>dd {float: none; width: auto; display: inline-block}\n",
              ".dl-inline>dt::after {content: \":\\0020\"; padding-right: .5ex}\n",
              ".dl-inline>dt:not(:first-of-type) {padding-left: .5ex}\n",
              "</style><dl class=dl-inline><dt>ISLR2</dt><dd>TRUE</dd><dt>dplyr</dt><dd>TRUE</dd><dt>tidyr</dt><dd>TRUE</dd><dt>readr</dt><dd>TRUE</dd><dt>purrr</dt><dd>TRUE</dd><dt>glmnet</dt><dd>TRUE</dd><dt>caret</dt><dd>TRUE</dd><dt>repr</dt><dd>TRUE</dd><dt>torch</dt><dd>FALSE</dd><dt>mlbench</dt><dd>FALSE</dd></dl>\n"
            ],
            "text/latex": [
              "\\begin{description*}\n",
              "\\item[ISLR2] TRUE\n",
              "\\item[dplyr] TRUE\n",
              "\\item[tidyr] TRUE\n",
              "\\item[readr] TRUE\n",
              "\\item[purrr] TRUE\n",
              "\\item[glmnet] TRUE\n",
              "\\item[caret] TRUE\n",
              "\\item[repr] TRUE\n",
              "\\item[torch] FALSE\n",
              "\\item[mlbench] FALSE\n",
              "\\end{description*}\n"
            ],
            "text/markdown": [
              "ISLR2\n",
              ":   TRUEdplyr\n",
              ":   TRUEtidyr\n",
              ":   TRUEreadr\n",
              ":   TRUEpurrr\n",
              ":   TRUEglmnet\n",
              ":   TRUEcaret\n",
              ":   TRUErepr\n",
              ":   TRUEtorch\n",
              ":   FALSEmlbench\n",
              ":   FALSE\n",
              "\n"
            ],
            "text/plain": [
              "  ISLR2   dplyr   tidyr   readr   purrr  glmnet   caret    repr   torch mlbench \n",
              "   TRUE    TRUE    TRUE    TRUE    TRUE    TRUE    TRUE    TRUE   FALSE   FALSE "
            ]
          },
          "metadata": {},
          "output_type": "display_data"
        }
      ],
      "source": [
        "packages <- c(\n",
        "    # Old packages\n",
        "    \"ISLR2\",\n",
        "    \"dplyr\",\n",
        "    \"tidyr\",\n",
        "    \"readr\",\n",
        "    \"purrr\",\n",
        "    \"glmnet\",\n",
        "    \"caret\",\n",
        "    \"repr\",\n",
        "    # NEW\n",
        "    \"torch\",\n",
        "    \"mlbench\"\n",
        ")\n",
        "\n",
        "# renv::install(packages)\n",
        "sapply(packages, require, character.only=TRUE)"
      ]
    },
    {
      "cell_type": "markdown",
      "id": "84c2c40a-3e37-45b5-9293-d244df01851f",
      "metadata": {},
      "source": [
        "## Cross validation"
      ]
    },
    {
      "cell_type": "code",
      "execution_count": 14,
      "id": "9294e27c-97fc-43d5-a21c-3ae218b2290a",
      "metadata": {
        "vscode": {
          "languageId": "r"
        }
      },
      "outputs": [
        {
          "data": {
            "text/html": [
              "<table class=\"dataframe\">\n",
              "<caption>A data.frame: 6 × 13</caption>\n",
              "<thead>\n",
              "\t<tr><th></th><th scope=col>crim</th><th scope=col>zn</th><th scope=col>indus</th><th scope=col>chas</th><th scope=col>nox</th><th scope=col>rm</th><th scope=col>age</th><th scope=col>dis</th><th scope=col>rad</th><th scope=col>tax</th><th scope=col>ptratio</th><th scope=col>lstat</th><th scope=col>medv</th></tr>\n",
              "\t<tr><th></th><th scope=col>&lt;dbl&gt;</th><th scope=col>&lt;dbl&gt;</th><th scope=col>&lt;dbl&gt;</th><th scope=col>&lt;int&gt;</th><th scope=col>&lt;dbl&gt;</th><th scope=col>&lt;dbl&gt;</th><th scope=col>&lt;dbl&gt;</th><th scope=col>&lt;dbl&gt;</th><th scope=col>&lt;int&gt;</th><th scope=col>&lt;dbl&gt;</th><th scope=col>&lt;dbl&gt;</th><th scope=col>&lt;dbl&gt;</th><th scope=col>&lt;dbl&gt;</th></tr>\n",
              "</thead>\n",
              "<tbody>\n",
              "\t<tr><th scope=row>1</th><td>0.00632</td><td>18</td><td>2.31</td><td>0</td><td>0.538</td><td>6.575</td><td>65.2</td><td>4.0900</td><td>1</td><td>296</td><td>15.3</td><td>4.98</td><td>24.0</td></tr>\n",
              "\t<tr><th scope=row>2</th><td>0.02731</td><td> 0</td><td>7.07</td><td>0</td><td>0.469</td><td>6.421</td><td>78.9</td><td>4.9671</td><td>2</td><td>242</td><td>17.8</td><td>9.14</td><td>21.6</td></tr>\n",
              "\t<tr><th scope=row>3</th><td>0.02729</td><td> 0</td><td>7.07</td><td>0</td><td>0.469</td><td>7.185</td><td>61.1</td><td>4.9671</td><td>2</td><td>242</td><td>17.8</td><td>4.03</td><td>34.7</td></tr>\n",
              "\t<tr><th scope=row>4</th><td>0.03237</td><td> 0</td><td>2.18</td><td>0</td><td>0.458</td><td>6.998</td><td>45.8</td><td>6.0622</td><td>3</td><td>222</td><td>18.7</td><td>2.94</td><td>33.4</td></tr>\n",
              "\t<tr><th scope=row>5</th><td>0.06905</td><td> 0</td><td>2.18</td><td>0</td><td>0.458</td><td>7.147</td><td>54.2</td><td>6.0622</td><td>3</td><td>222</td><td>18.7</td><td>5.33</td><td>36.2</td></tr>\n",
              "\t<tr><th scope=row>6</th><td>0.02985</td><td> 0</td><td>2.18</td><td>0</td><td>0.458</td><td>6.430</td><td>58.7</td><td>6.0622</td><td>3</td><td>222</td><td>18.7</td><td>5.21</td><td>28.7</td></tr>\n",
              "</tbody>\n",
              "</table>\n"
            ],
            "text/latex": [
              "A data.frame: 6 × 13\n",
              "\\begin{tabular}{r|lllllllllllll}\n",
              "  & crim & zn & indus & chas & nox & rm & age & dis & rad & tax & ptratio & lstat & medv\\\\\n",
              "  & <dbl> & <dbl> & <dbl> & <int> & <dbl> & <dbl> & <dbl> & <dbl> & <int> & <dbl> & <dbl> & <dbl> & <dbl>\\\\\n",
              "\\hline\n",
              "\t1 & 0.00632 & 18 & 2.31 & 0 & 0.538 & 6.575 & 65.2 & 4.0900 & 1 & 296 & 15.3 & 4.98 & 24.0\\\\\n",
              "\t2 & 0.02731 &  0 & 7.07 & 0 & 0.469 & 6.421 & 78.9 & 4.9671 & 2 & 242 & 17.8 & 9.14 & 21.6\\\\\n",
              "\t3 & 0.02729 &  0 & 7.07 & 0 & 0.469 & 7.185 & 61.1 & 4.9671 & 2 & 242 & 17.8 & 4.03 & 34.7\\\\\n",
              "\t4 & 0.03237 &  0 & 2.18 & 0 & 0.458 & 6.998 & 45.8 & 6.0622 & 3 & 222 & 18.7 & 2.94 & 33.4\\\\\n",
              "\t5 & 0.06905 &  0 & 2.18 & 0 & 0.458 & 7.147 & 54.2 & 6.0622 & 3 & 222 & 18.7 & 5.33 & 36.2\\\\\n",
              "\t6 & 0.02985 &  0 & 2.18 & 0 & 0.458 & 6.430 & 58.7 & 6.0622 & 3 & 222 & 18.7 & 5.21 & 28.7\\\\\n",
              "\\end{tabular}\n"
            ],
            "text/markdown": [
              "\n",
              "A data.frame: 6 × 13\n",
              "\n",
              "| <!--/--> | crim &lt;dbl&gt; | zn &lt;dbl&gt; | indus &lt;dbl&gt; | chas &lt;int&gt; | nox &lt;dbl&gt; | rm &lt;dbl&gt; | age &lt;dbl&gt; | dis &lt;dbl&gt; | rad &lt;int&gt; | tax &lt;dbl&gt; | ptratio &lt;dbl&gt; | lstat &lt;dbl&gt; | medv &lt;dbl&gt; |\n",
              "|---|---|---|---|---|---|---|---|---|---|---|---|---|---|\n",
              "| 1 | 0.00632 | 18 | 2.31 | 0 | 0.538 | 6.575 | 65.2 | 4.0900 | 1 | 296 | 15.3 | 4.98 | 24.0 |\n",
              "| 2 | 0.02731 |  0 | 7.07 | 0 | 0.469 | 6.421 | 78.9 | 4.9671 | 2 | 242 | 17.8 | 9.14 | 21.6 |\n",
              "| 3 | 0.02729 |  0 | 7.07 | 0 | 0.469 | 7.185 | 61.1 | 4.9671 | 2 | 242 | 17.8 | 4.03 | 34.7 |\n",
              "| 4 | 0.03237 |  0 | 2.18 | 0 | 0.458 | 6.998 | 45.8 | 6.0622 | 3 | 222 | 18.7 | 2.94 | 33.4 |\n",
              "| 5 | 0.06905 |  0 | 2.18 | 0 | 0.458 | 7.147 | 54.2 | 6.0622 | 3 | 222 | 18.7 | 5.33 | 36.2 |\n",
              "| 6 | 0.02985 |  0 | 2.18 | 0 | 0.458 | 6.430 | 58.7 | 6.0622 | 3 | 222 | 18.7 | 5.21 | 28.7 |\n",
              "\n"
            ],
            "text/plain": [
              "  crim    zn indus chas nox   rm    age  dis    rad tax ptratio lstat medv\n",
              "1 0.00632 18 2.31  0    0.538 6.575 65.2 4.0900 1   296 15.3    4.98  24.0\n",
              "2 0.02731  0 7.07  0    0.469 6.421 78.9 4.9671 2   242 17.8    9.14  21.6\n",
              "3 0.02729  0 7.07  0    0.469 7.185 61.1 4.9671 2   242 17.8    4.03  34.7\n",
              "4 0.03237  0 2.18  0    0.458 6.998 45.8 6.0622 3   222 18.7    2.94  33.4\n",
              "5 0.06905  0 2.18  0    0.458 7.147 54.2 6.0622 3   222 18.7    5.33  36.2\n",
              "6 0.02985  0 2.18  0    0.458 6.430 58.7 6.0622 3   222 18.7    5.21  28.7"
            ]
          },
          "metadata": {},
          "output_type": "display_data"
        }
      ],
      "source": [
        "df <- Boston %>% drop_na()\n",
        "head(df)"
      ]
    },
    {
      "cell_type": "markdown",
      "id": "c8cef320-526b-4cc8-bb67-4617f267384b",
      "metadata": {},
      "source": [
        "Split the data into training and testing sets"
      ]
    },
    {
      "cell_type": "code",
      "execution_count": 11,
      "id": "a6c2ca3c-5333-47c7-b60b-da2cdaccafab",
      "metadata": {
        "vscode": {
          "languageId": "r"
        }
      },
      "outputs": [
        {
          "data": {
            "text/html": [
              "253"
            ],
            "text/latex": [
              "253"
            ],
            "text/markdown": [
              "253"
            ],
            "text/plain": [
              "[1] 253"
            ]
          },
          "metadata": {},
          "output_type": "display_data"
        }
      ],
      "source": [
        "# randomly sample half of the data\n",
        "fold <- sample(1:nrow(df), nrow(df)/2)"
      ]
    },
    {
      "cell_type": "code",
      "execution_count": 12,
      "id": "9c876478-8b98-4fd2-afb6-6a509614e6b0",
      "metadata": {
        "vscode": {
          "languageId": "r"
        }
      },
      "outputs": [],
      "source": [
        "train <- df %>% slice(-fold)\n",
        "test <- df %>% slice(fold)"
      ]
    },
    {
      "cell_type": "code",
      "execution_count": 13,
      "id": "322d671c-059f-4a18-8d22-b1db8edde4df",
      "metadata": {
        "vscode": {
          "languageId": "r"
        }
      },
      "outputs": [
        {
          "data": {
            "text/html": [
              "506"
            ],
            "text/latex": [
              "506"
            ],
            "text/markdown": [
              "506"
            ],
            "text/plain": [
              "[1] 506"
            ]
          },
          "metadata": {},
          "output_type": "display_data"
        }
      ],
      "source": [
        "nrow(train) + nrow(test)"
      ]
    },
    {
      "cell_type": "code",
      "execution_count": 16,
      "id": "fd8ad6c1-c916-4095-a3fe-0ebdd7f8a858",
      "metadata": {
        "vscode": {
          "languageId": "r"
        }
      },
      "outputs": [
        {
          "data": {
            "text/plain": [
              "\n",
              "Call:\n",
              "lm(formula = medv ~ ., data = train)\n",
              "\n",
              "Residuals:\n",
              "    Min      1Q  Median      3Q     Max \n",
              "-9.4469 -2.8633 -0.3378  1.4369 24.2307 \n",
              "\n",
              "Coefficients:\n",
              "              Estimate Std. Error t value Pr(>|t|)    \n",
              "(Intercept)  49.734622   7.726407   6.437 6.57e-10 ***\n",
              "crim         -0.144390   0.051901  -2.782 0.005832 ** \n",
              "zn            0.060788   0.019950   3.047 0.002570 ** \n",
              "indus        -0.057421   0.092692  -0.619 0.536185    \n",
              "chas          4.089622   1.264033   3.235 0.001386 ** \n",
              "nox         -16.828232   5.667477  -2.969 0.003288 ** \n",
              "rm            2.419061   0.661545   3.657 0.000314 ***\n",
              "age           0.005604   0.019131   0.293 0.769847    \n",
              "dis          -1.707481   0.316796  -5.390 1.68e-07 ***\n",
              "rad           0.322732   0.097790   3.300 0.001113 ** \n",
              "tax          -0.010705   0.005411  -1.979 0.049011 *  \n",
              "ptratio      -0.942242   0.198621  -4.744 3.60e-06 ***\n",
              "lstat        -0.646179   0.076710  -8.424 3.37e-15 ***\n",
              "---\n",
              "Signif. codes:  0 '***' 0.001 '**' 0.01 '*' 0.05 '.' 0.1 ' ' 1\n",
              "\n",
              "Residual standard error: 5.008 on 240 degrees of freedom\n",
              "Multiple R-squared:  0.7085,\tAdjusted R-squared:  0.6939 \n",
              "F-statistic:  48.6 on 12 and 240 DF,  p-value: < 2.2e-16\n"
            ]
          },
          "metadata": {},
          "output_type": "display_data"
        }
      ],
      "source": [
        "mod1 <- lm(medv ~ ., data = train)\n",
        "summary(mod1)"
      ]
    },
    {
      "cell_type": "code",
      "execution_count": 19,
      "id": "9f8dc4c7-5c1a-46b7-add7-9fd8d88b009a",
      "metadata": {
        "vscode": {
          "languageId": "r"
        }
      },
      "outputs": [
        {
          "data": {
            "text/html": [
              "253"
            ],
            "text/latex": [
              "253"
            ],
            "text/markdown": [
              "253"
            ],
            "text/plain": [
              "[1] 253"
            ]
          },
          "metadata": {},
          "output_type": "display_data"
        }
      ],
      "source": [
        "y_test <- predict(mod1, newdata = test)\n",
        "length(y_test)"
      ]
    },
    {
      "cell_type": "code",
      "execution_count": 21,
      "id": "4ff73079-0b94-4c97-87f7-884b596d5a9c",
      "metadata": {
        "vscode": {
          "languageId": "r"
        }
      },
      "outputs": [],
      "source": [
        "mspe <- mean((test$medv - y_test)^2)"
      ]
    },
    {
      "cell_type": "markdown",
      "id": "2c0a7e15-a26c-4bf8-b9d1-560e7383f90f",
      "metadata": {},
      "source": [
        "## k-Fold Cross Validation"
      ]
    },
    {
      "cell_type": "code",
      "execution_count": 32,
      "id": "5dedf343-549f-49d6-85c7-e8bcea5ae93d",
      "metadata": {
        "vscode": {
          "languageId": "r"
        }
      },
      "outputs": [],
      "source": [
        "k <- 5\n",
        "# randomly assign group to each row\n",
        "folds <- sample(1:k, nrow(df), replace = T)\n",
        "\n",
        "df_folds <- list()\n",
        "\n",
        "for (i in 1:k){\n",
        "    df_folds[[i]] <- list()\n",
        "    df_folds[[i]]$train <- df[which(folds != i), ]\n",
        "    df_folds[[i]]$test <- df[which(folds == i), ]\n",
        "}"
      ]
    },
    {
      "cell_type": "code",
      "execution_count": 34,
      "id": "eba8af0c-bc04-4ed6-9f7d-13638b708399",
      "metadata": {
        "vscode": {
          "languageId": "r"
        }
      },
      "outputs": [
        {
          "data": {
            "text/html": [
              "<style>\n",
              ".list-inline {list-style: none; margin:0; padding: 0}\n",
              ".list-inline>li {display: inline-block}\n",
              ".list-inline>li:not(:last-child)::after {content: \"\\00b7\"; padding: 0 .5ex}\n",
              "</style>\n",
              "<ol class=list-inline><li>35.4250136382112</li><li>29.0652992052886</li><li>17.7190966757252</li><li>32.0095211398122</li><li>16.5443446520955</li></ol>\n"
            ],
            "text/latex": [
              "\\begin{enumerate*}\n",
              "\\item 35.4250136382112\n",
              "\\item 29.0652992052886\n",
              "\\item 17.7190966757252\n",
              "\\item 32.0095211398122\n",
              "\\item 16.5443446520955\n",
              "\\end{enumerate*}\n"
            ],
            "text/markdown": [
              "1. 35.4250136382112\n",
              "2. 29.0652992052886\n",
              "3. 17.7190966757252\n",
              "4. 32.0095211398122\n",
              "5. 16.5443446520955\n",
              "\n",
              "\n"
            ],
            "text/plain": [
              "[1] 35.42501 29.06530 17.71910 32.00952 16.54434"
            ]
          },
          "metadata": {},
          "output_type": "display_data"
        },
        {
          "data": {
            "text/html": [
              "26.1526550622265"
            ],
            "text/latex": [
              "26.1526550622265"
            ],
            "text/markdown": [
              "26.1526550622265"
            ],
            "text/plain": [
              "[1] 26.15266"
            ]
          },
          "metadata": {},
          "output_type": "display_data"
        }
      ],
      "source": [
        "\n",
        "kfold_mspe <- c()\n",
        "for ( i in 1:k){\n",
        "    model <- lm(medv ~ ., df_folds[[i]]$train)\n",
        "    yhat <- predict(model, newdata = df_folds[[i]]$test)\n",
        "    kfold_mspe[i] <- mean((yhat - df_folds[[i]]$test$medv)^2)\n",
        "}\n",
        "kfold_mspe\n",
        "mean(kfold_mspe)\n"
      ]
    },
    {
      "cell_type": "code",
      "execution_count": 36,
      "id": "09660022-95c1-492c-bbda-21fc214ed287",
      "metadata": {
        "vscode": {
          "languageId": "r"
        }
      },
      "outputs": [],
      "source": [
        "make_fold <- function(df, k){\n",
        "    fold <- sample(1:k, nrow(df), replace=T)\n",
        "    df_folds <- list()\n",
        "\n",
        "    for (i in 1:k){\n",
        "        df_folds[[i]] <- list()\n",
        "        df_folds[[i]]$train <- df[which(folds != i), ]\n",
        "        df_folds[[i]]$test <- df[which(folds == i), ]\n",
        "    }\n",
        "    return(df_folds)\n",
        "}\n",
        "\n",
        "cv_mspe <- function(formula, df_folds){\n",
        "    kfold_mspe <- c()\n",
        "    for ( i in 1:k){\n",
        "        model <- lm(formula, df_folds[[i]]$train)\n",
        "        yhat <- predict(model, newdata = df_folds[[i]]$test)\n",
        "        kfold_mspe[i] <- mean((yhat - df_folds[[i]]$test$medv)^2)\n",
        "    }\n",
        "    return(mean(kfold_mspe))\n",
        "}"
      ]
    },
    {
      "cell_type": "code",
      "execution_count": 39,
      "id": "a445707f-6907-4ebb-8c6d-b85992a5e22f",
      "metadata": {
        "vscode": {
          "languageId": "r"
        }
      },
      "outputs": [
        {
          "data": {
            "text/html": [
              "85.0091595030346"
            ],
            "text/latex": [
              "85.0091595030346"
            ],
            "text/markdown": [
              "85.0091595030346"
            ],
            "text/plain": [
              "[1] 85.00916"
            ]
          },
          "metadata": {},
          "output_type": "display_data"
        },
        {
          "data": {
            "text/html": [
              "26.1526550622265"
            ],
            "text/latex": [
              "26.1526550622265"
            ],
            "text/markdown": [
              "26.1526550622265"
            ],
            "text/plain": [
              "[1] 26.15266"
            ]
          },
          "metadata": {},
          "output_type": "display_data"
        }
      ],
      "source": [
        "cv_mspe(medv~1, df_folds)\n",
        "cv_mspe(medv~., df_folds)"
      ]
    },
    {
      "cell_type": "code",
      "execution_count": null,
      "id": "cdc9b1af-7572-468c-aa08-7ee29fd84eb0",
      "metadata": {
        "vscode": {
          "languageId": "r"
        }
      },
      "outputs": [],
      "source": []
    },
    {
      "cell_type": "markdown",
      "id": "ec6fd42b-6c92-41c9-80be-fe5ff8d2ddd4",
      "metadata": {},
      "source": [
        "## Wrapped in a function"
      ]
    },
    {
      "cell_type": "code",
      "execution_count": null,
      "id": "9b016b11-d840-4a2b-b3da-0738f3551c68",
      "metadata": {
        "vscode": {
          "languageId": "r"
        }
      },
      "outputs": [],
      "source": []
    },
    {
      "cell_type": "code",
      "execution_count": null,
      "id": "e288d8fb-ec75-474c-9529-3637fd2ad1d7",
      "metadata": {
        "vscode": {
          "languageId": "r"
        }
      },
      "outputs": [],
      "source": []
    },
    {
      "cell_type": "code",
      "execution_count": null,
      "id": "0ad9dfa4-6771-472f-ad38-37cb77ba165a",
      "metadata": {
        "vscode": {
          "languageId": "r"
        }
      },
      "outputs": [],
      "source": []
    },
    {
      "cell_type": "markdown",
      "id": "0cafdc71-4c5f-45a7-ab25-334c3d3aa956",
      "metadata": {},
      "source": [
        "### Using the`caret` package\n",
        "\n",
        "Define the training control for cross validation"
      ]
    },
    {
      "cell_type": "code",
      "execution_count": 41,
      "id": "68837600-7b3b-45e4-a58b-e25fcab2a82c",
      "metadata": {
        "vscode": {
          "languageId": "r"
        }
      },
      "outputs": [],
      "source": [
        "ctrl <- trainControl(method = \"cv\", number=5)"
      ]
    },
    {
      "cell_type": "code",
      "execution_count": 45,
      "id": "03b8b6db-14c4-4fbe-b21e-e3770b100134",
      "metadata": {
        "vscode": {
          "languageId": "r"
        }
      },
      "outputs": [
        {
          "data": {
            "text/html": [
              "<style>\n",
              ".dl-inline {width: auto; margin:0; padding: 0}\n",
              ".dl-inline>dt, .dl-inline>dd {float: none; width: auto; display: inline-block}\n",
              ".dl-inline>dt::after {content: \":\\0020\"; padding-right: .5ex}\n",
              ".dl-inline>dt:not(:first-of-type) {padding-left: .5ex}\n",
              "</style><dl class=dl-inline><dt>1</dt><dd>30.0337380504926</dd><dt>2</dt><dd>25.0568336826892</dd><dt>3</dt><dd>30.6081860175902</dd><dt>4</dt><dd>28.6771794803499</dd><dt>5</dt><dd>27.9287909998651</dd><dt>6</dt><dd>25.3931685703532</dd><dt>7</dt><dd>22.8049615494483</dd><dt>8</dt><dd>19.1989849502472</dd><dt>9</dt><dd>11.0789798219185</dd><dt>10</dt><dd>18.7196691232593</dd><dt>11</dt><dd>18.6243862855485</dd><dt>12</dt><dd>21.3924635276942</dd><dt>13</dt><dd>20.6074548209259</dd><dt>14</dt><dd>19.5425861229257</dd><dt>15</dt><dd>19.4233882589469</dd><dt>16</dt><dd>19.2985477845044</dd><dt>17</dt><dd>20.561345480741</dd><dt>18</dt><dd>16.8774752879118</dd><dt>19</dt><dd>17.0918004262162</dd><dt>20</dt><dd>18.4376068936576</dd><dt>21</dt><dd>12.5239462258944</dd><dt>22</dt><dd>17.6346927785339</dd><dt>23</dt><dd>15.5984260277113</dd><dt>24</dt><dd>13.6377991247922</dd><dt>25</dt><dd>15.5739012445341</dd><dt>26</dt><dd>14.1458081608903</dd><dt>27</dt><dd>15.5651597590228</dd><dt>28</dt><dd>15.3585852802864</dd><dt>29</dt><dd>19.5109375952116</dd><dt>30</dt><dd>20.886462251699</dd><dt>31</dt><dd>11.5264829087487</dd><dt>32</dt><dd>18.1976370302555</dd><dt>33</dt><dd>9.85998432916649</dd><dt>34</dt><dd>14.4939560408805</dd><dt>35</dt><dd>14.832129759164</dd><dt>36</dt><dd>23.8345596475794</dd><dt>37</dt><dd>22.4881909554257</dd><dt>38</dt><dd>23.0793850815467</dd><dt>39</dt><dd>22.8302053820455</dd><dt>40</dt><dd>31.430550968617</dd><dt>41</dt><dd>34.2692209948154</dd><dt>42</dt><dd>27.9984533108287</dd><dt>43</dt><dd>25.2761181436396</dd><dt>44</dt><dd>24.5274389367175</dd><dt>45</dt><dd>22.968635853294</dd><dt>46</dt><dd>22.085322144464</dd><dt>47</dt><dd>20.2869495877537</dd><dt>48</dt><dd>17.9181009958171</dd><dt>49</dt><dd>8.74324716962005</dd><dt>50</dt><dd>17.1102100241535</dd><dt>51</dt><dd>21.1539396584431</dd><dt>52</dt><dd>23.9970620196686</dd><dt>53</dt><dd>27.5840258525539</dd><dt>54</dt><dd>23.9700938914829</dd><dt>55</dt><dd>15.2685035101521</dd><dt>56</dt><dd>31.0754735440722</dd><dt>57</dt><dd>24.9129545934012</dd><dt>58</dt><dd>33.1530688772535</dd><dt>59</dt><dd>21.7362505534425</dd><dt>60</dt><dd>21.0232570913305</dd><dt>61</dt><dd>17.7990395294546</dd><dt>62</dt><dd>18.6120927692852</dd><dt>63</dt><dd>23.9689255608586</dd><dt>64</dt><dd>22.3430302955229</dd><dt>65</dt><dd>23.350217973717</dd><dt>66</dt><dd>30.3789932163903</dd><dt>67</dt><dd>25.5112703556523</dd><dt>68</dt><dd>21.0913879235977</dd><dt>69</dt><dd>17.3440859171292</dd><dt>70</dt><dd>20.7694558412167</dd><dt>71</dt><dd>25.2004116762813</dd><dt>72</dt><dd>21.8187278809166</dd><dt>73</dt><dd>24.579099254098</dd><dt>74</dt><dd>24.1041108912305</dd><dt>75</dt><dd>25.3393654353903</dd><dt>76</dt><dd>23.9590875541471</dd><dt>77</dt><dd>23.0380361484189</dd><dt>78</dt><dd>23.3090220955131</dd><dt>79</dt><dd>21.1582697556659</dd><dt>80</dt><dd>22.3346551061095</dd><dt>81</dt><dd>28.3995872325951</dd><dt>82</dt><dd>27.0719250837458</dd><dt>83</dt><dd>26.051356505791</dd><dt>84</dt><dd>25.173901747872</dd><dt>85</dt><dd>24.7503576542716</dd><dt>86</dt><dd>27.8755200565398</dd><dt>87</dt><dd>22.1080950285289</dd><dt>88</dt><dd>25.9887587095173</dd><dt>89</dt><dd>30.7572677678287</dd><dt>90</dt><dd>30.8376480314461</dd><dt>91</dt><dd>27.1910969605274</dd><dt>92</dt><dd>27.5133057191439</dd><dt>93</dt><dd>28.8860687488908</dd><dt>94</dt><dd>29.029907987849</dd><dt>95</dt><dd>26.9999880951114</dd><dt>96</dt><dd>29.0593763119528</dd><dt>97</dt><dd>24.8238118349768</dd><dt>98</dt><dd>35.7544886273071</dd><dt>99</dt><dd>35.0604597288316</dd><dt>100</dt><dd>32.2303346078753</dd><dt>101</dt><dd>24.4986679054308</dd><dt>102</dt><dd>25.5186301243741</dd><dt>103</dt><dd>22.7570126965629</dd><dt>104</dt><dd>20.2347663549957</dd><dt>105</dt><dd>21.4132145174045</dd><dt>106</dt><dd>18.4651745960959</dd><dt>107</dt><dd>17.0241789404222</dd><dt>108</dt><dd>20.7241670730259</dd><dt>109</dt><dd>22.5786799659502</dd><dt>110</dt><dd>19.6667908865857</dd><dt>111</dt><dd>20.4891912325152</dd><dt>112</dt><dd>26.307824917686</dd><dt>113</dt><dd>20.5555269968269</dd><dt>114</dt><dd>20.4314827751847</dd><dt>115</dt><dd>25.0933076481883</dd><dt>116</dt><dd>20.6724686398771</dd><dt>117</dt><dd>23.183300249876</dd><dt>118</dt><dd>23.5851282336071</dd><dt>119</dt><dd>20.6118606412562</dd><dt>120</dt><dd>20.6174282672551</dd><dt>121</dt><dd>21.7702856369823</dd><dt>122</dt><dd>22.4572392819499</dd><dt>123</dt><dd>20.4734623509247</dd><dt>124</dt><dd>16.1805267904001</dd><dt>125</dt><dd>20.4966614422878</dd><dt>126</dt><dd>22.4018683915874</dd><dt>127</dt><dd>14.5156171537159</dd><dt>128</dt><dd>14.932686032428</dd><dt>129</dt><dd>18.5920003809269</dd><dt>130</dt><dd>13.7271712171626</dd><dt>131</dt><dd>19.7733174259449</dd><dt>132</dt><dd>19.1429294976517</dd><dt>133</dt><dd>19.9303323693062</dd><dt>134</dt><dd>15.570101999445</dd><dt>135</dt><dd>14.1907976864442</dd><dt>136</dt><dd>16.8992371538162</dd><dt>137</dt><dd>15.7206608715129</dd><dt>138</dt><dd>19.0574376506165</dd><dt>139</dt><dd>13.4403004261733</dd><dt>140</dt><dd>16.0575541116344</dd><dt>141</dt><dd>13.0951173063376</dd><dt>142</dt><dd>3.32967116788399</dd><dt>143</dt><dd>13.8845926311478</dd><dt>144</dt><dd>11.2744785934506</dd><dt>145</dt><dd>7.87359254379274</dd><dt>146</dt><dd>13.1320374676242</dd><dt>147</dt><dd>17.3325524589717</dd><dt>148</dt><dd>7.69627989973728</dd><dt>149</dt><dd>9.21047761555447</dd><dt>150</dt><dd>14.4672043021067</dd><dt>151</dt><dd>20.4469067918362</dd><dt>152</dt><dd>18.3415939653931</dd><dt>153</dt><dd>20.3617725244135</dd><dt>154</dt><dd>17.9399786746278</dd><dt>155</dt><dd>22.5783356584605</dd><dt>156</dt><dd>22.4176200425884</dd><dt>157</dt><dd>15.9270593433312</dd><dt>158</dt><dd>33.3559303797381</dd><dt>159</dt><dd>29.3058463127551</dd><dt>160</dt><dd>25.3876827787409</dd><dt>161</dt><dd>33.2527440725329</dd><dt>162</dt><dd>36.7395662116946</dd><dt>163</dt><dd>40.4973683204018</dd><dt>164</dt><dd>41.6624963842533</dd><dt>165</dt><dd>24.5246022910963</dd><dt>166</dt><dd>26.5665606202415</dd><dt>167</dt><dd>37.1029733357707</dd><dt>168</dt><dd>24.3350840667791</dd><dt>169</dt><dd>27.012221295417</dd><dt>170</dt><dd>26.9308011813329</dd><dt>171</dt><dd>23.1912154857735</dd><dt>172</dt><dd>24.4652427995233</dd><dt>173</dt><dd>22.9417241547555</dd><dt>174</dt><dd>29.0631105529204</dd><dt>175</dt><dd>26.5567232913822</dd><dt>176</dt><dd>30.6810560916967</dd><dt>177</dt><dd>25.5387181270938</dd><dt>178</dt><dd>29.1770203199635</dd><dt>179</dt><dd>31.4246376931228</dd><dt>180</dt><dd>32.9669933276164</dd><dt>181</dt><dd>34.6676408342727</dd><dt>182</dt><dd>27.8312904552765</dd><dt>183</dt><dd>34.0380294035554</dd><dt>184</dt><dd>31.1906180183129</dd><dt>185</dt><dd>22.8717976136303</dd><dt>186</dt><dd>24.8301985816135</dd><dt>187</dt><dd>35.8367515617125</dd><dt>188</dt><dd>33.3416405791938</dd><dt>189</dt><dd>32.4761921079165</dd><dt>190</dt><dd>34.3594673415404</dd><dt>191</dt><dd>30.7479185610583</dd><dt>192</dt><dd>30.2349231162656</dd><dt>193</dt><dd>32.8271359997821</dd><dt>194</dt><dd>32.1154910134155</dd><dt>195</dt><dd>31.7903554077182</dd><dt>196</dt><dd>40.7495803643133</dd><dt>197</dt><dd>36.0369133434124</dd><dt>198</dt><dd>32.8860370685368</dd><dt>199</dt><dd>34.6026892375535</dd><dt>200</dt><dd>30.0113709906847</dd><dt>201</dt><dd>⋯</dd><dt>202</dt><dd>35.5045023941302</dd><dt>203</dt><dd>32.7034420087632</dd><dt>204</dt><dd>28.6558461530239</dd><dt>205</dt><dd>23.5500484004316</dd><dt>206</dt><dd>18.8729941978624</dd><dt>207</dt><dd>26.8505192307232</dd><dt>208</dt><dd>23.2309601297889</dd><dt>209</dt><dd>25.5609859795996</dd><dt>210</dt><dd>25.3983137729378</dd><dt>211</dt><dd>20.4880260370404</dd><dt>212</dt><dd>17.4143819106895</dd><dt>213</dt><dd>18.168836170423</dd><dt>214</dt><dd>24.1528764692742</dd><dt>215</dt><dd>21.1215514513111</dd><dt>216</dt><dd>24.8330190495605</dd><dt>217</dt><dd>24.8378025951781</dd><dt>218</dt><dd>22.8483091109859</dd><dt>219</dt><dd>19.4962593816506</dd><dt>220</dt><dd>25.0544708047039</dd><dt>221</dt><dd>24.5777277141387</dd><dt>222</dt><dd>23.5894750159881</dd><dt>223</dt><dd>19.1473769451237</dd><dt>224</dt><dd>21.1659276804536</dd><dt>225</dt><dd>24.2875812744153</dd><dt>226</dt><dd>21.7045636231676</dd><dt>227</dt><dd>19.926672885909</dd><dt>228</dt><dd>23.6383248368398</dd><dt>229</dt><dd>22.1676062910177</dd><dt>230</dt><dd>21.5580740996583</dd><dt>231</dt><dd>20.5544255468313</dd><dt>232</dt><dd>20.1193283592972</dd><dt>233</dt><dd>19.2710956215767</dd><dt>234</dt><dd>22.1186028070595</dd><dt>235</dt><dd>21.195505634338</dd><dt>236</dt><dd>21.4282326327539</dd><dt>237</dt><dd>30.2888872230413</dd><dt>238</dt><dd>21.9761604327626</dd><dt>239</dt><dd>27.6130725151511</dd><dt>240</dt><dd>28.4869398080838</dd><dt>241</dt><dd>16.576089236736</dd><dt>242</dt><dd>14.9804461125022</dd><dt>243</dt><dd>25.2414470810277</dd><dt>244</dt><dd>27.5418747968635</dd><dt>245</dt><dd>22.1834853742724</dd><dt>246</dt><dd>20.5230338487828</dd><dt>247</dt><dd>20.7264986575117</dd><dt>248</dt><dd>16.852492630925</dd><dt>249</dt><dd>25.4962173439554</dd><dt>250</dt><dd>14.5144770863878</dd><dt>251</dt><dd>16.8657673620077</dd><dt>252</dt><dd>18.9249723026166</dd><dt>253</dt><dd>22.0137029392251</dd><dt>254</dt><dd>21.5056349987505</dd><dt>255</dt><dd>18.3788707276002</dd><dt>256</dt><dd>22.095509029463</dd><dt>257</dt><dd>18.4536160105188</dd><dt>258</dt><dd>17.7333694989274</dd><dt>259</dt><dd>19.9345661194759</dd><dt>260</dt><dd>37.0303689519985</dd><dt>261</dt><dd>14.4097728610282</dd><dt>262</dt><dd>15.6501011079195</dd><dt>263</dt><dd>12.8266646189686</dd><dt>264</dt><dd>23.7473909895237</dd><dt>265</dt><dd>32.4529799210364</dd><dt>266</dt><dd>34.2232790515219</dd><dt>267</dt><dd>24.561728714372</dd><dt>268</dt><dd>25.9575485711139</dd><dt>269</dt><dd>4.90728022801797</dd><dt>270</dt><dd>-0.510234313016397</dd><dt>271</dt><dd>24.1793228923528</dd><dt>272</dt><dd>16.8058321933633</dd><dt>273</dt><dd>19.1039570111997</dd><dt>274</dt><dd>14.5076084580658</dd><dt>275</dt><dd>15.7031692492199</dd><dt>276</dt><dd>12.2447455995329</dd><dt>277</dt><dd>17.3076705456534</dd><dt>278</dt><dd>12.4053449945891</dd><dt>279</dt><dd>12.0323929607029</dd><dt>280</dt><dd>3.10736201215305</dd><dt>281</dt><dd>6.77543587156652</dd><dt>282</dt><dd>4.91094166653852</dd><dt>283</dt><dd>4.23983611085146</dd><dt>284</dt><dd>5.49213058013137</dd><dt>285</dt><dd>13.2908272558522</dd><dt>286</dt><dd>16.3787279570742</dd><dt>287</dt><dd>16.4948762605877</dd><dt>288</dt><dd>8.84438109956749</dd><dt>289</dt><dd>19.318410446627</dd><dt>290</dt><dd>16.9964396394254</dd><dt>291</dt><dd>19.3702222958039</dd><dt>292</dt><dd>18.2948455282122</dd><dt>293</dt><dd>15.4408665905788</dd><dt>294</dt><dd>4.96950183164422</dd><dt>295</dt><dd>10.1268009704771</dd><dt>296</dt><dd>10.498928144461</dd><dt>297</dt><dd>16.6958546307865</dd><dt>298</dt><dd>17.3910728413614</dd><dt>299</dt><dd>11.8744605239982</dd><dt>300</dt><dd>6.41278908149554</dd><dt>301</dt><dd>6.51810089730128</dd><dt>302</dt><dd>7.40411740437832</dd><dt>303</dt><dd>19.8740101832552</dd><dt>304</dt><dd>13.4843323490886</dd><dt>305</dt><dd>20.7940608567991</dd><dt>306</dt><dd>17.7500509563634</dd><dt>307</dt><dd>19.240443640172</dd><dt>308</dt><dd>3.94186678745666</dd><dt>309</dt><dd>12.5100800528794</dd><dt>310</dt><dd>-3.12350833642207</dd><dt>311</dt><dd>11.6165866581519</dd><dt>312</dt><dd>15.5587513119462</dd><dt>313</dt><dd>8.09936152674835</dd><dt>314</dt><dd>7.84209989296604</dd><dt>315</dt><dd>16.5321385616206</dd><dt>316</dt><dd>19.3590192538121</dd><dt>317</dt><dd>17.9551545512738</dd><dt>318</dt><dd>18.7275667292836</dd><dt>319</dt><dd>15.8113549789149</dd><dt>320</dt><dd>17.4639623978814</dd><dt>321</dt><dd>12.3626656121487</dd><dt>322</dt><dd>18.909915388793</dd><dt>323</dt><dd>16.2933317933361</dd><dt>324</dt><dd>15.9631735006333</dd><dt>325</dt><dd>15.0093100780142</dd><dt>326</dt><dd>20.1717819635772</dd><dt>327</dt><dd>20.6004158463735</dd><dt>328</dt><dd>23.5379125456442</dd><dt>329</dt><dd>18.8254302694251</dd><dt>330</dt><dd>17.7247197437103</dd><dt>331</dt><dd>14.7650536099123</dd><dt>332</dt><dd>16.8135809644266</dd><dt>333</dt><dd>11.1104177630977</dd><dt>334</dt><dd>6.41563995712637</dd><dt>335</dt><dd>11.9856149647462</dd><dt>336</dt><dd>11.494070453064</dd><dt>337</dt><dd>16.2919422194785</dd><dt>338</dt><dd>17.8178643094299</dd><dt>339</dt><dd>17.0607250069917</dd><dt>340</dt><dd>11.7924065296672</dd><dt>341</dt><dd>14.0152075313852</dd><dt>342</dt><dd>17.413087403802</dd><dt>343</dt><dd>17.2005059591047</dd><dt>344</dt><dd>16.5177134588373</dd><dt>345</dt><dd>17.0466353726397</dd><dt>346</dt><dd>19.1643243140524</dd><dt>347</dt><dd>18.7884500310151</dd><dt>348</dt><dd>17.732887619049</dd><dt>349</dt><dd>21.5525323122374</dd><dt>350</dt><dd>17.7953089647443</dd><dt>351</dt><dd>18.013295696232</dd><dt>352</dt><dd>15.3185462046884</dd><dt>353</dt><dd>15.562681654248</dd><dt>354</dt><dd>17.3507157300184</dd><dt>355</dt><dd>17.6062875618731</dd><dt>356</dt><dd>19.3654057484353</dd><dt>357</dt><dd>19.3289689347917</dd><dt>358</dt><dd>18.8490415715514</dd><dt>359</dt><dd>21.6344490239185</dd><dt>360</dt><dd>19.4182809280825</dd><dt>361</dt><dd>17.6215682454216</dd><dt>362</dt><dd>17.0087608581729</dd><dt>363</dt><dd>16.6757725593851</dd><dt>364</dt><dd>16.2425740529616</dd><dt>365</dt><dd>17.7018771205514</dd><dt>366</dt><dd>19.3633100130814</dd><dt>367</dt><dd>22.3420314704151</dd><dt>368</dt><dd>21.6826832744981</dd><dt>369</dt><dd>24.9061570859993</dd><dt>370</dt><dd>16.0510278919222</dd><dt>371</dt><dd>15.9923928468682</dd><dt>372</dt><dd>19.6224757834804</dd><dt>373</dt><dd>10.9528480994182</dd><dt>374</dt><dd>18.4488213978221</dd><dt>375</dt><dd>21.123443399523</dd><dt>376</dt><dd>22.7704118512464</dd><dt>377</dt><dd>26.4735780318465</dd><dt>378</dt><dd>27.9013995163957</dd><dt>379</dt><dd>20.4629917238874</dd><dt>380</dt><dd>18.9103259581442</dd><dt>381</dt><dd>21.5269511284063</dd><dt>382</dt><dd>18.8941043714154</dd><dt>383</dt><dd>20.6728190233703</dd><dt>384</dt><dd>11.447349892048</dd><dt>385</dt><dd>8.15251024165726</dd><dt>386</dt><dd>3.72203885133307</dd><dt>387</dt><dd>13.3341134906543</dd><dt>388</dt><dd>15.5232581956973</dd><dt>389</dt><dd>20.4220185451599</dd><dt>390</dt><dd>20.2968955806402</dd><dt>391</dt><dd>16.4877067752505</dd><dt>392</dt><dd>13.655091365475</dd><dt>393</dt><dd>18.8731772442996</dd><dt>394</dt><dd>21.0529800983274</dd><dt>395</dt><dd>18.2541875574794</dd><dt>396</dt><dd>20.224855467912</dd><dt>397</dt><dd>23.4954955715467</dd><dt>398</dt><dd>22.4053282635757</dd><dt>399</dt><dd>27.664267160476</dd><dt>400</dt><dd>26.1926749775993</dd><dt>401</dt><dd>22.4288256939196</dd></dl>\n"
            ],
            "text/latex": [
              "\\begin{description*}\n",
              "\\item[1] 30.0337380504926\n",
              "\\item[2] 25.0568336826892\n",
              "\\item[3] 30.6081860175902\n",
              "\\item[4] 28.6771794803499\n",
              "\\item[5] 27.9287909998651\n",
              "\\item[6] 25.3931685703532\n",
              "\\item[7] 22.8049615494483\n",
              "\\item[8] 19.1989849502472\n",
              "\\item[9] 11.0789798219185\n",
              "\\item[10] 18.7196691232593\n",
              "\\item[11] 18.6243862855485\n",
              "\\item[12] 21.3924635276942\n",
              "\\item[13] 20.6074548209259\n",
              "\\item[14] 19.5425861229257\n",
              "\\item[15] 19.4233882589469\n",
              "\\item[16] 19.2985477845044\n",
              "\\item[17] 20.561345480741\n",
              "\\item[18] 16.8774752879118\n",
              "\\item[19] 17.0918004262162\n",
              "\\item[20] 18.4376068936576\n",
              "\\item[21] 12.5239462258944\n",
              "\\item[22] 17.6346927785339\n",
              "\\item[23] 15.5984260277113\n",
              "\\item[24] 13.6377991247922\n",
              "\\item[25] 15.5739012445341\n",
              "\\item[26] 14.1458081608903\n",
              "\\item[27] 15.5651597590228\n",
              "\\item[28] 15.3585852802864\n",
              "\\item[29] 19.5109375952116\n",
              "\\item[30] 20.886462251699\n",
              "\\item[31] 11.5264829087487\n",
              "\\item[32] 18.1976370302555\n",
              "\\item[33] 9.85998432916649\n",
              "\\item[34] 14.4939560408805\n",
              "\\item[35] 14.832129759164\n",
              "\\item[36] 23.8345596475794\n",
              "\\item[37] 22.4881909554257\n",
              "\\item[38] 23.0793850815467\n",
              "\\item[39] 22.8302053820455\n",
              "\\item[40] 31.430550968617\n",
              "\\item[41] 34.2692209948154\n",
              "\\item[42] 27.9984533108287\n",
              "\\item[43] 25.2761181436396\n",
              "\\item[44] 24.5274389367175\n",
              "\\item[45] 22.968635853294\n",
              "\\item[46] 22.085322144464\n",
              "\\item[47] 20.2869495877537\n",
              "\\item[48] 17.9181009958171\n",
              "\\item[49] 8.74324716962005\n",
              "\\item[50] 17.1102100241535\n",
              "\\item[51] 21.1539396584431\n",
              "\\item[52] 23.9970620196686\n",
              "\\item[53] 27.5840258525539\n",
              "\\item[54] 23.9700938914829\n",
              "\\item[55] 15.2685035101521\n",
              "\\item[56] 31.0754735440722\n",
              "\\item[57] 24.9129545934012\n",
              "\\item[58] 33.1530688772535\n",
              "\\item[59] 21.7362505534425\n",
              "\\item[60] 21.0232570913305\n",
              "\\item[61] 17.7990395294546\n",
              "\\item[62] 18.6120927692852\n",
              "\\item[63] 23.9689255608586\n",
              "\\item[64] 22.3430302955229\n",
              "\\item[65] 23.350217973717\n",
              "\\item[66] 30.3789932163903\n",
              "\\item[67] 25.5112703556523\n",
              "\\item[68] 21.0913879235977\n",
              "\\item[69] 17.3440859171292\n",
              "\\item[70] 20.7694558412167\n",
              "\\item[71] 25.2004116762813\n",
              "\\item[72] 21.8187278809166\n",
              "\\item[73] 24.579099254098\n",
              "\\item[74] 24.1041108912305\n",
              "\\item[75] 25.3393654353903\n",
              "\\item[76] 23.9590875541471\n",
              "\\item[77] 23.0380361484189\n",
              "\\item[78] 23.3090220955131\n",
              "\\item[79] 21.1582697556659\n",
              "\\item[80] 22.3346551061095\n",
              "\\item[81] 28.3995872325951\n",
              "\\item[82] 27.0719250837458\n",
              "\\item[83] 26.051356505791\n",
              "\\item[84] 25.173901747872\n",
              "\\item[85] 24.7503576542716\n",
              "\\item[86] 27.8755200565398\n",
              "\\item[87] 22.1080950285289\n",
              "\\item[88] 25.9887587095173\n",
              "\\item[89] 30.7572677678287\n",
              "\\item[90] 30.8376480314461\n",
              "\\item[91] 27.1910969605274\n",
              "\\item[92] 27.5133057191439\n",
              "\\item[93] 28.8860687488908\n",
              "\\item[94] 29.029907987849\n",
              "\\item[95] 26.9999880951114\n",
              "\\item[96] 29.0593763119528\n",
              "\\item[97] 24.8238118349768\n",
              "\\item[98] 35.7544886273071\n",
              "\\item[99] 35.0604597288316\n",
              "\\item[100] 32.2303346078753\n",
              "\\item[101] 24.4986679054308\n",
              "\\item[102] 25.5186301243741\n",
              "\\item[103] 22.7570126965629\n",
              "\\item[104] 20.2347663549957\n",
              "\\item[105] 21.4132145174045\n",
              "\\item[106] 18.4651745960959\n",
              "\\item[107] 17.0241789404222\n",
              "\\item[108] 20.7241670730259\n",
              "\\item[109] 22.5786799659502\n",
              "\\item[110] 19.6667908865857\n",
              "\\item[111] 20.4891912325152\n",
              "\\item[112] 26.307824917686\n",
              "\\item[113] 20.5555269968269\n",
              "\\item[114] 20.4314827751847\n",
              "\\item[115] 25.0933076481883\n",
              "\\item[116] 20.6724686398771\n",
              "\\item[117] 23.183300249876\n",
              "\\item[118] 23.5851282336071\n",
              "\\item[119] 20.6118606412562\n",
              "\\item[120] 20.6174282672551\n",
              "\\item[121] 21.7702856369823\n",
              "\\item[122] 22.4572392819499\n",
              "\\item[123] 20.4734623509247\n",
              "\\item[124] 16.1805267904001\n",
              "\\item[125] 20.4966614422878\n",
              "\\item[126] 22.4018683915874\n",
              "\\item[127] 14.5156171537159\n",
              "\\item[128] 14.932686032428\n",
              "\\item[129] 18.5920003809269\n",
              "\\item[130] 13.7271712171626\n",
              "\\item[131] 19.7733174259449\n",
              "\\item[132] 19.1429294976517\n",
              "\\item[133] 19.9303323693062\n",
              "\\item[134] 15.570101999445\n",
              "\\item[135] 14.1907976864442\n",
              "\\item[136] 16.8992371538162\n",
              "\\item[137] 15.7206608715129\n",
              "\\item[138] 19.0574376506165\n",
              "\\item[139] 13.4403004261733\n",
              "\\item[140] 16.0575541116344\n",
              "\\item[141] 13.0951173063376\n",
              "\\item[142] 3.32967116788399\n",
              "\\item[143] 13.8845926311478\n",
              "\\item[144] 11.2744785934506\n",
              "\\item[145] 7.87359254379274\n",
              "\\item[146] 13.1320374676242\n",
              "\\item[147] 17.3325524589717\n",
              "\\item[148] 7.69627989973728\n",
              "\\item[149] 9.21047761555447\n",
              "\\item[150] 14.4672043021067\n",
              "\\item[151] 20.4469067918362\n",
              "\\item[152] 18.3415939653931\n",
              "\\item[153] 20.3617725244135\n",
              "\\item[154] 17.9399786746278\n",
              "\\item[155] 22.5783356584605\n",
              "\\item[156] 22.4176200425884\n",
              "\\item[157] 15.9270593433312\n",
              "\\item[158] 33.3559303797381\n",
              "\\item[159] 29.3058463127551\n",
              "\\item[160] 25.3876827787409\n",
              "\\item[161] 33.2527440725329\n",
              "\\item[162] 36.7395662116946\n",
              "\\item[163] 40.4973683204018\n",
              "\\item[164] 41.6624963842533\n",
              "\\item[165] 24.5246022910963\n",
              "\\item[166] 26.5665606202415\n",
              "\\item[167] 37.1029733357707\n",
              "\\item[168] 24.3350840667791\n",
              "\\item[169] 27.012221295417\n",
              "\\item[170] 26.9308011813329\n",
              "\\item[171] 23.1912154857735\n",
              "\\item[172] 24.4652427995233\n",
              "\\item[173] 22.9417241547555\n",
              "\\item[174] 29.0631105529204\n",
              "\\item[175] 26.5567232913822\n",
              "\\item[176] 30.6810560916967\n",
              "\\item[177] 25.5387181270938\n",
              "\\item[178] 29.1770203199635\n",
              "\\item[179] 31.4246376931228\n",
              "\\item[180] 32.9669933276164\n",
              "\\item[181] 34.6676408342727\n",
              "\\item[182] 27.8312904552765\n",
              "\\item[183] 34.0380294035554\n",
              "\\item[184] 31.1906180183129\n",
              "\\item[185] 22.8717976136303\n",
              "\\item[186] 24.8301985816135\n",
              "\\item[187] 35.8367515617125\n",
              "\\item[188] 33.3416405791938\n",
              "\\item[189] 32.4761921079165\n",
              "\\item[190] 34.3594673415404\n",
              "\\item[191] 30.7479185610583\n",
              "\\item[192] 30.2349231162656\n",
              "\\item[193] 32.8271359997821\n",
              "\\item[194] 32.1154910134155\n",
              "\\item[195] 31.7903554077182\n",
              "\\item[196] 40.7495803643133\n",
              "\\item[197] 36.0369133434124\n",
              "\\item[198] 32.8860370685368\n",
              "\\item[199] 34.6026892375535\n",
              "\\item[200] 30.0113709906847\n",
              "\\item[201] ⋯\n",
              "\\item[202] 35.5045023941302\n",
              "\\item[203] 32.7034420087632\n",
              "\\item[204] 28.6558461530239\n",
              "\\item[205] 23.5500484004316\n",
              "\\item[206] 18.8729941978624\n",
              "\\item[207] 26.8505192307232\n",
              "\\item[208] 23.2309601297889\n",
              "\\item[209] 25.5609859795996\n",
              "\\item[210] 25.3983137729378\n",
              "\\item[211] 20.4880260370404\n",
              "\\item[212] 17.4143819106895\n",
              "\\item[213] 18.168836170423\n",
              "\\item[214] 24.1528764692742\n",
              "\\item[215] 21.1215514513111\n",
              "\\item[216] 24.8330190495605\n",
              "\\item[217] 24.8378025951781\n",
              "\\item[218] 22.8483091109859\n",
              "\\item[219] 19.4962593816506\n",
              "\\item[220] 25.0544708047039\n",
              "\\item[221] 24.5777277141387\n",
              "\\item[222] 23.5894750159881\n",
              "\\item[223] 19.1473769451237\n",
              "\\item[224] 21.1659276804536\n",
              "\\item[225] 24.2875812744153\n",
              "\\item[226] 21.7045636231676\n",
              "\\item[227] 19.926672885909\n",
              "\\item[228] 23.6383248368398\n",
              "\\item[229] 22.1676062910177\n",
              "\\item[230] 21.5580740996583\n",
              "\\item[231] 20.5544255468313\n",
              "\\item[232] 20.1193283592972\n",
              "\\item[233] 19.2710956215767\n",
              "\\item[234] 22.1186028070595\n",
              "\\item[235] 21.195505634338\n",
              "\\item[236] 21.4282326327539\n",
              "\\item[237] 30.2888872230413\n",
              "\\item[238] 21.9761604327626\n",
              "\\item[239] 27.6130725151511\n",
              "\\item[240] 28.4869398080838\n",
              "\\item[241] 16.576089236736\n",
              "\\item[242] 14.9804461125022\n",
              "\\item[243] 25.2414470810277\n",
              "\\item[244] 27.5418747968635\n",
              "\\item[245] 22.1834853742724\n",
              "\\item[246] 20.5230338487828\n",
              "\\item[247] 20.7264986575117\n",
              "\\item[248] 16.852492630925\n",
              "\\item[249] 25.4962173439554\n",
              "\\item[250] 14.5144770863878\n",
              "\\item[251] 16.8657673620077\n",
              "\\item[252] 18.9249723026166\n",
              "\\item[253] 22.0137029392251\n",
              "\\item[254] 21.5056349987505\n",
              "\\item[255] 18.3788707276002\n",
              "\\item[256] 22.095509029463\n",
              "\\item[257] 18.4536160105188\n",
              "\\item[258] 17.7333694989274\n",
              "\\item[259] 19.9345661194759\n",
              "\\item[260] 37.0303689519985\n",
              "\\item[261] 14.4097728610282\n",
              "\\item[262] 15.6501011079195\n",
              "\\item[263] 12.8266646189686\n",
              "\\item[264] 23.7473909895237\n",
              "\\item[265] 32.4529799210364\n",
              "\\item[266] 34.2232790515219\n",
              "\\item[267] 24.561728714372\n",
              "\\item[268] 25.9575485711139\n",
              "\\item[269] 4.90728022801797\n",
              "\\item[270] -0.510234313016397\n",
              "\\item[271] 24.1793228923528\n",
              "\\item[272] 16.8058321933633\n",
              "\\item[273] 19.1039570111997\n",
              "\\item[274] 14.5076084580658\n",
              "\\item[275] 15.7031692492199\n",
              "\\item[276] 12.2447455995329\n",
              "\\item[277] 17.3076705456534\n",
              "\\item[278] 12.4053449945891\n",
              "\\item[279] 12.0323929607029\n",
              "\\item[280] 3.10736201215305\n",
              "\\item[281] 6.77543587156652\n",
              "\\item[282] 4.91094166653852\n",
              "\\item[283] 4.23983611085146\n",
              "\\item[284] 5.49213058013137\n",
              "\\item[285] 13.2908272558522\n",
              "\\item[286] 16.3787279570742\n",
              "\\item[287] 16.4948762605877\n",
              "\\item[288] 8.84438109956749\n",
              "\\item[289] 19.318410446627\n",
              "\\item[290] 16.9964396394254\n",
              "\\item[291] 19.3702222958039\n",
              "\\item[292] 18.2948455282122\n",
              "\\item[293] 15.4408665905788\n",
              "\\item[294] 4.96950183164422\n",
              "\\item[295] 10.1268009704771\n",
              "\\item[296] 10.498928144461\n",
              "\\item[297] 16.6958546307865\n",
              "\\item[298] 17.3910728413614\n",
              "\\item[299] 11.8744605239982\n",
              "\\item[300] 6.41278908149554\n",
              "\\item[301] 6.51810089730128\n",
              "\\item[302] 7.40411740437832\n",
              "\\item[303] 19.8740101832552\n",
              "\\item[304] 13.4843323490886\n",
              "\\item[305] 20.7940608567991\n",
              "\\item[306] 17.7500509563634\n",
              "\\item[307] 19.240443640172\n",
              "\\item[308] 3.94186678745666\n",
              "\\item[309] 12.5100800528794\n",
              "\\item[310] -3.12350833642207\n",
              "\\item[311] 11.6165866581519\n",
              "\\item[312] 15.5587513119462\n",
              "\\item[313] 8.09936152674835\n",
              "\\item[314] 7.84209989296604\n",
              "\\item[315] 16.5321385616206\n",
              "\\item[316] 19.3590192538121\n",
              "\\item[317] 17.9551545512738\n",
              "\\item[318] 18.7275667292836\n",
              "\\item[319] 15.8113549789149\n",
              "\\item[320] 17.4639623978814\n",
              "\\item[321] 12.3626656121487\n",
              "\\item[322] 18.909915388793\n",
              "\\item[323] 16.2933317933361\n",
              "\\item[324] 15.9631735006333\n",
              "\\item[325] 15.0093100780142\n",
              "\\item[326] 20.1717819635772\n",
              "\\item[327] 20.6004158463735\n",
              "\\item[328] 23.5379125456442\n",
              "\\item[329] 18.8254302694251\n",
              "\\item[330] 17.7247197437103\n",
              "\\item[331] 14.7650536099123\n",
              "\\item[332] 16.8135809644266\n",
              "\\item[333] 11.1104177630977\n",
              "\\item[334] 6.41563995712637\n",
              "\\item[335] 11.9856149647462\n",
              "\\item[336] 11.494070453064\n",
              "\\item[337] 16.2919422194785\n",
              "\\item[338] 17.8178643094299\n",
              "\\item[339] 17.0607250069917\n",
              "\\item[340] 11.7924065296672\n",
              "\\item[341] 14.0152075313852\n",
              "\\item[342] 17.413087403802\n",
              "\\item[343] 17.2005059591047\n",
              "\\item[344] 16.5177134588373\n",
              "\\item[345] 17.0466353726397\n",
              "\\item[346] 19.1643243140524\n",
              "\\item[347] 18.7884500310151\n",
              "\\item[348] 17.732887619049\n",
              "\\item[349] 21.5525323122374\n",
              "\\item[350] 17.7953089647443\n",
              "\\item[351] 18.013295696232\n",
              "\\item[352] 15.3185462046884\n",
              "\\item[353] 15.562681654248\n",
              "\\item[354] 17.3507157300184\n",
              "\\item[355] 17.6062875618731\n",
              "\\item[356] 19.3654057484353\n",
              "\\item[357] 19.3289689347917\n",
              "\\item[358] 18.8490415715514\n",
              "\\item[359] 21.6344490239185\n",
              "\\item[360] 19.4182809280825\n",
              "\\item[361] 17.6215682454216\n",
              "\\item[362] 17.0087608581729\n",
              "\\item[363] 16.6757725593851\n",
              "\\item[364] 16.2425740529616\n",
              "\\item[365] 17.7018771205514\n",
              "\\item[366] 19.3633100130814\n",
              "\\item[367] 22.3420314704151\n",
              "\\item[368] 21.6826832744981\n",
              "\\item[369] 24.9061570859993\n",
              "\\item[370] 16.0510278919222\n",
              "\\item[371] 15.9923928468682\n",
              "\\item[372] 19.6224757834804\n",
              "\\item[373] 10.9528480994182\n",
              "\\item[374] 18.4488213978221\n",
              "\\item[375] 21.123443399523\n",
              "\\item[376] 22.7704118512464\n",
              "\\item[377] 26.4735780318465\n",
              "\\item[378] 27.9013995163957\n",
              "\\item[379] 20.4629917238874\n",
              "\\item[380] 18.9103259581442\n",
              "\\item[381] 21.5269511284063\n",
              "\\item[382] 18.8941043714154\n",
              "\\item[383] 20.6728190233703\n",
              "\\item[384] 11.447349892048\n",
              "\\item[385] 8.15251024165726\n",
              "\\item[386] 3.72203885133307\n",
              "\\item[387] 13.3341134906543\n",
              "\\item[388] 15.5232581956973\n",
              "\\item[389] 20.4220185451599\n",
              "\\item[390] 20.2968955806402\n",
              "\\item[391] 16.4877067752505\n",
              "\\item[392] 13.655091365475\n",
              "\\item[393] 18.8731772442996\n",
              "\\item[394] 21.0529800983274\n",
              "\\item[395] 18.2541875574794\n",
              "\\item[396] 20.224855467912\n",
              "\\item[397] 23.4954955715467\n",
              "\\item[398] 22.4053282635757\n",
              "\\item[399] 27.664267160476\n",
              "\\item[400] 26.1926749775993\n",
              "\\item[401] 22.4288256939196\n",
              "\\end{description*}\n"
            ],
            "text/markdown": [
              "1\n",
              ":   30.03373805049262\n",
              ":   25.05683368268923\n",
              ":   30.60818601759024\n",
              ":   28.67717948034995\n",
              ":   27.92879099986516\n",
              ":   25.39316857035327\n",
              ":   22.80496154944838\n",
              ":   19.19898495024729\n",
              ":   11.078979821918510\n",
              ":   18.719669123259311\n",
              ":   18.624386285548512\n",
              ":   21.392463527694213\n",
              ":   20.607454820925914\n",
              ":   19.542586122925715\n",
              ":   19.423388258946916\n",
              ":   19.298547784504417\n",
              ":   20.56134548074118\n",
              ":   16.877475287911819\n",
              ":   17.091800426216220\n",
              ":   18.437606893657621\n",
              ":   12.523946225894422\n",
              ":   17.634692778533923\n",
              ":   15.598426027711324\n",
              ":   13.637799124792225\n",
              ":   15.573901244534126\n",
              ":   14.145808160890327\n",
              ":   15.565159759022828\n",
              ":   15.358585280286429\n",
              ":   19.510937595211630\n",
              ":   20.88646225169931\n",
              ":   11.526482908748732\n",
              ":   18.197637030255533\n",
              ":   9.8599843291664934\n",
              ":   14.493956040880535\n",
              ":   14.83212975916436\n",
              ":   23.834559647579437\n",
              ":   22.488190955425738\n",
              ":   23.079385081546739\n",
              ":   22.830205382045540\n",
              ":   31.43055096861741\n",
              ":   34.269220994815442\n",
              ":   27.998453310828743\n",
              ":   25.276118143639644\n",
              ":   24.527438936717545\n",
              ":   22.96863585329446\n",
              ":   22.08532214446447\n",
              ":   20.286949587753748\n",
              ":   17.918100995817149\n",
              ":   8.7432471696200550\n",
              ":   17.110210024153551\n",
              ":   21.153939658443152\n",
              ":   23.997062019668653\n",
              ":   27.584025852553954\n",
              ":   23.970093891482955\n",
              ":   15.268503510152156\n",
              ":   31.075473544072257\n",
              ":   24.912954593401258\n",
              ":   33.153068877253559\n",
              ":   21.736250553442560\n",
              ":   21.023257091330561\n",
              ":   17.799039529454662\n",
              ":   18.612092769285263\n",
              ":   23.968925560858664\n",
              ":   22.343030295522965\n",
              ":   23.35021797371766\n",
              ":   30.378993216390367\n",
              ":   25.511270355652368\n",
              ":   21.091387923597769\n",
              ":   17.344085917129270\n",
              ":   20.769455841216771\n",
              ":   25.200411676281372\n",
              ":   21.818727880916673\n",
              ":   24.57909925409874\n",
              ":   24.104110891230575\n",
              ":   25.339365435390376\n",
              ":   23.959087554147177\n",
              ":   23.038036148418978\n",
              ":   23.309022095513179\n",
              ":   21.158269755665980\n",
              ":   22.334655106109581\n",
              ":   28.399587232595182\n",
              ":   27.071925083745883\n",
              ":   26.05135650579184\n",
              ":   25.17390174787285\n",
              ":   24.750357654271686\n",
              ":   27.875520056539887\n",
              ":   22.108095028528988\n",
              ":   25.988758709517389\n",
              ":   30.757267767828790\n",
              ":   30.837648031446191\n",
              ":   27.191096960527492\n",
              ":   27.513305719143993\n",
              ":   28.886068748890894\n",
              ":   29.02990798784995\n",
              ":   26.999988095111496\n",
              ":   29.059376311952897\n",
              ":   24.823811834976898\n",
              ":   35.754488627307199\n",
              ":   35.0604597288316100\n",
              ":   32.2303346078753101\n",
              ":   24.4986679054308102\n",
              ":   25.5186301243741103\n",
              ":   22.7570126965629104\n",
              ":   20.2347663549957105\n",
              ":   21.4132145174045106\n",
              ":   18.4651745960959107\n",
              ":   17.0241789404222108\n",
              ":   20.7241670730259109\n",
              ":   22.5786799659502110\n",
              ":   19.6667908865857111\n",
              ":   20.4891912325152112\n",
              ":   26.307824917686113\n",
              ":   20.5555269968269114\n",
              ":   20.4314827751847115\n",
              ":   25.0933076481883116\n",
              ":   20.6724686398771117\n",
              ":   23.183300249876118\n",
              ":   23.5851282336071119\n",
              ":   20.6118606412562120\n",
              ":   20.6174282672551121\n",
              ":   21.7702856369823122\n",
              ":   22.4572392819499123\n",
              ":   20.4734623509247124\n",
              ":   16.1805267904001125\n",
              ":   20.4966614422878126\n",
              ":   22.4018683915874127\n",
              ":   14.5156171537159128\n",
              ":   14.932686032428129\n",
              ":   18.5920003809269130\n",
              ":   13.7271712171626131\n",
              ":   19.7733174259449132\n",
              ":   19.1429294976517133\n",
              ":   19.9303323693062134\n",
              ":   15.570101999445135\n",
              ":   14.1907976864442136\n",
              ":   16.8992371538162137\n",
              ":   15.7206608715129138\n",
              ":   19.0574376506165139\n",
              ":   13.4403004261733140\n",
              ":   16.0575541116344141\n",
              ":   13.0951173063376142\n",
              ":   3.32967116788399143\n",
              ":   13.8845926311478144\n",
              ":   11.2744785934506145\n",
              ":   7.87359254379274146\n",
              ":   13.1320374676242147\n",
              ":   17.3325524589717148\n",
              ":   7.69627989973728149\n",
              ":   9.21047761555447150\n",
              ":   14.4672043021067151\n",
              ":   20.4469067918362152\n",
              ":   18.3415939653931153\n",
              ":   20.3617725244135154\n",
              ":   17.9399786746278155\n",
              ":   22.5783356584605156\n",
              ":   22.4176200425884157\n",
              ":   15.9270593433312158\n",
              ":   33.3559303797381159\n",
              ":   29.3058463127551160\n",
              ":   25.3876827787409161\n",
              ":   33.2527440725329162\n",
              ":   36.7395662116946163\n",
              ":   40.4973683204018164\n",
              ":   41.6624963842533165\n",
              ":   24.5246022910963166\n",
              ":   26.5665606202415167\n",
              ":   37.1029733357707168\n",
              ":   24.3350840667791169\n",
              ":   27.012221295417170\n",
              ":   26.9308011813329171\n",
              ":   23.1912154857735172\n",
              ":   24.4652427995233173\n",
              ":   22.9417241547555174\n",
              ":   29.0631105529204175\n",
              ":   26.5567232913822176\n",
              ":   30.6810560916967177\n",
              ":   25.5387181270938178\n",
              ":   29.1770203199635179\n",
              ":   31.4246376931228180\n",
              ":   32.9669933276164181\n",
              ":   34.6676408342727182\n",
              ":   27.8312904552765183\n",
              ":   34.0380294035554184\n",
              ":   31.1906180183129185\n",
              ":   22.8717976136303186\n",
              ":   24.8301985816135187\n",
              ":   35.8367515617125188\n",
              ":   33.3416405791938189\n",
              ":   32.4761921079165190\n",
              ":   34.3594673415404191\n",
              ":   30.7479185610583192\n",
              ":   30.2349231162656193\n",
              ":   32.8271359997821194\n",
              ":   32.1154910134155195\n",
              ":   31.7903554077182196\n",
              ":   40.7495803643133197\n",
              ":   36.0369133434124198\n",
              ":   32.8860370685368199\n",
              ":   34.6026892375535200\n",
              ":   30.0113709906847201\n",
              ":   ⋯202\n",
              ":   35.5045023941302203\n",
              ":   32.7034420087632204\n",
              ":   28.6558461530239205\n",
              ":   23.5500484004316206\n",
              ":   18.8729941978624207\n",
              ":   26.8505192307232208\n",
              ":   23.2309601297889209\n",
              ":   25.5609859795996210\n",
              ":   25.3983137729378211\n",
              ":   20.4880260370404212\n",
              ":   17.4143819106895213\n",
              ":   18.168836170423214\n",
              ":   24.1528764692742215\n",
              ":   21.1215514513111216\n",
              ":   24.8330190495605217\n",
              ":   24.8378025951781218\n",
              ":   22.8483091109859219\n",
              ":   19.4962593816506220\n",
              ":   25.0544708047039221\n",
              ":   24.5777277141387222\n",
              ":   23.5894750159881223\n",
              ":   19.1473769451237224\n",
              ":   21.1659276804536225\n",
              ":   24.2875812744153226\n",
              ":   21.7045636231676227\n",
              ":   19.926672885909228\n",
              ":   23.6383248368398229\n",
              ":   22.1676062910177230\n",
              ":   21.5580740996583231\n",
              ":   20.5544255468313232\n",
              ":   20.1193283592972233\n",
              ":   19.2710956215767234\n",
              ":   22.1186028070595235\n",
              ":   21.195505634338236\n",
              ":   21.4282326327539237\n",
              ":   30.2888872230413238\n",
              ":   21.9761604327626239\n",
              ":   27.6130725151511240\n",
              ":   28.4869398080838241\n",
              ":   16.576089236736242\n",
              ":   14.9804461125022243\n",
              ":   25.2414470810277244\n",
              ":   27.5418747968635245\n",
              ":   22.1834853742724246\n",
              ":   20.5230338487828247\n",
              ":   20.7264986575117248\n",
              ":   16.852492630925249\n",
              ":   25.4962173439554250\n",
              ":   14.5144770863878251\n",
              ":   16.8657673620077252\n",
              ":   18.9249723026166253\n",
              ":   22.0137029392251254\n",
              ":   21.5056349987505255\n",
              ":   18.3788707276002256\n",
              ":   22.095509029463257\n",
              ":   18.4536160105188258\n",
              ":   17.7333694989274259\n",
              ":   19.9345661194759260\n",
              ":   37.0303689519985261\n",
              ":   14.4097728610282262\n",
              ":   15.6501011079195263\n",
              ":   12.8266646189686264\n",
              ":   23.7473909895237265\n",
              ":   32.4529799210364266\n",
              ":   34.2232790515219267\n",
              ":   24.561728714372268\n",
              ":   25.9575485711139269\n",
              ":   4.90728022801797270\n",
              ":   -0.510234313016397271\n",
              ":   24.1793228923528272\n",
              ":   16.8058321933633273\n",
              ":   19.1039570111997274\n",
              ":   14.5076084580658275\n",
              ":   15.7031692492199276\n",
              ":   12.2447455995329277\n",
              ":   17.3076705456534278\n",
              ":   12.4053449945891279\n",
              ":   12.0323929607029280\n",
              ":   3.10736201215305281\n",
              ":   6.77543587156652282\n",
              ":   4.91094166653852283\n",
              ":   4.23983611085146284\n",
              ":   5.49213058013137285\n",
              ":   13.2908272558522286\n",
              ":   16.3787279570742287\n",
              ":   16.4948762605877288\n",
              ":   8.84438109956749289\n",
              ":   19.318410446627290\n",
              ":   16.9964396394254291\n",
              ":   19.3702222958039292\n",
              ":   18.2948455282122293\n",
              ":   15.4408665905788294\n",
              ":   4.96950183164422295\n",
              ":   10.1268009704771296\n",
              ":   10.498928144461297\n",
              ":   16.6958546307865298\n",
              ":   17.3910728413614299\n",
              ":   11.8744605239982300\n",
              ":   6.41278908149554301\n",
              ":   6.51810089730128302\n",
              ":   7.40411740437832303\n",
              ":   19.8740101832552304\n",
              ":   13.4843323490886305\n",
              ":   20.7940608567991306\n",
              ":   17.7500509563634307\n",
              ":   19.240443640172308\n",
              ":   3.94186678745666309\n",
              ":   12.5100800528794310\n",
              ":   -3.12350833642207311\n",
              ":   11.6165866581519312\n",
              ":   15.5587513119462313\n",
              ":   8.09936152674835314\n",
              ":   7.84209989296604315\n",
              ":   16.5321385616206316\n",
              ":   19.3590192538121317\n",
              ":   17.9551545512738318\n",
              ":   18.7275667292836319\n",
              ":   15.8113549789149320\n",
              ":   17.4639623978814321\n",
              ":   12.3626656121487322\n",
              ":   18.909915388793323\n",
              ":   16.2933317933361324\n",
              ":   15.9631735006333325\n",
              ":   15.0093100780142326\n",
              ":   20.1717819635772327\n",
              ":   20.6004158463735328\n",
              ":   23.5379125456442329\n",
              ":   18.8254302694251330\n",
              ":   17.7247197437103331\n",
              ":   14.7650536099123332\n",
              ":   16.8135809644266333\n",
              ":   11.1104177630977334\n",
              ":   6.41563995712637335\n",
              ":   11.9856149647462336\n",
              ":   11.494070453064337\n",
              ":   16.2919422194785338\n",
              ":   17.8178643094299339\n",
              ":   17.0607250069917340\n",
              ":   11.7924065296672341\n",
              ":   14.0152075313852342\n",
              ":   17.413087403802343\n",
              ":   17.2005059591047344\n",
              ":   16.5177134588373345\n",
              ":   17.0466353726397346\n",
              ":   19.1643243140524347\n",
              ":   18.7884500310151348\n",
              ":   17.732887619049349\n",
              ":   21.5525323122374350\n",
              ":   17.7953089647443351\n",
              ":   18.013295696232352\n",
              ":   15.3185462046884353\n",
              ":   15.562681654248354\n",
              ":   17.3507157300184355\n",
              ":   17.6062875618731356\n",
              ":   19.3654057484353357\n",
              ":   19.3289689347917358\n",
              ":   18.8490415715514359\n",
              ":   21.6344490239185360\n",
              ":   19.4182809280825361\n",
              ":   17.6215682454216362\n",
              ":   17.0087608581729363\n",
              ":   16.6757725593851364\n",
              ":   16.2425740529616365\n",
              ":   17.7018771205514366\n",
              ":   19.3633100130814367\n",
              ":   22.3420314704151368\n",
              ":   21.6826832744981369\n",
              ":   24.9061570859993370\n",
              ":   16.0510278919222371\n",
              ":   15.9923928468682372\n",
              ":   19.6224757834804373\n",
              ":   10.9528480994182374\n",
              ":   18.4488213978221375\n",
              ":   21.123443399523376\n",
              ":   22.7704118512464377\n",
              ":   26.4735780318465378\n",
              ":   27.9013995163957379\n",
              ":   20.4629917238874380\n",
              ":   18.9103259581442381\n",
              ":   21.5269511284063382\n",
              ":   18.8941043714154383\n",
              ":   20.6728190233703384\n",
              ":   11.447349892048385\n",
              ":   8.15251024165726386\n",
              ":   3.72203885133307387\n",
              ":   13.3341134906543388\n",
              ":   15.5232581956973389\n",
              ":   20.4220185451599390\n",
              ":   20.2968955806402391\n",
              ":   16.4877067752505392\n",
              ":   13.655091365475393\n",
              ":   18.8731772442996394\n",
              ":   21.0529800983274395\n",
              ":   18.2541875574794396\n",
              ":   20.224855467912397\n",
              ":   23.4954955715467398\n",
              ":   22.4053282635757399\n",
              ":   27.664267160476400\n",
              ":   26.1926749775993401\n",
              ":   22.4288256939196\n",
              "\n"
            ],
            "text/plain": [
              "         1          2          3          4          5          6          7 \n",
              "30.0337381 25.0568337 30.6081860 28.6771795 27.9287910 25.3931686 22.8049615 \n",
              "         8          9         10         11         12         13         14 \n",
              "19.1989850 11.0789798 18.7196691 18.6243863 21.3924635 20.6074548 19.5425861 \n",
              "        15         16         17         18         19         20         21 \n",
              "19.4233883 19.2985478 20.5613455 16.8774753 17.0918004 18.4376069 12.5239462 \n",
              "        22         23         24         25         26         27         28 \n",
              "17.6346928 15.5984260 13.6377991 15.5739012 14.1458082 15.5651598 15.3585853 \n",
              "        29         30         31         32         33         34         35 \n",
              "19.5109376 20.8864623 11.5264829 18.1976370  9.8599843 14.4939560 14.8321298 \n",
              "        36         37         38         39         40         41         42 \n",
              "23.8345596 22.4881910 23.0793851 22.8302054 31.4305510 34.2692210 27.9984533 \n",
              "        43         44         45         46         47         48         49 \n",
              "25.2761181 24.5274389 22.9686359 22.0853221 20.2869496 17.9181010  8.7432472 \n",
              "        50         51         52         53         54         55         56 \n",
              "17.1102100 21.1539397 23.9970620 27.5840259 23.9700939 15.2685035 31.0754735 \n",
              "        57         58         59         60         61         62         63 \n",
              "24.9129546 33.1530689 21.7362506 21.0232571 17.7990395 18.6120928 23.9689256 \n",
              "        64         65         66         67         68         69         70 \n",
              "22.3430303 23.3502180 30.3789932 25.5112704 21.0913879 17.3440859 20.7694558 \n",
              "        71         72         73         74         75         76         77 \n",
              "25.2004117 21.8187279 24.5790993 24.1041109 25.3393654 23.9590876 23.0380361 \n",
              "        78         79         80         81         82         83         84 \n",
              "23.3090221 21.1582698 22.3346551 28.3995872 27.0719251 26.0513565 25.1739017 \n",
              "        85         86         87         88         89         90         91 \n",
              "24.7503577 27.8755201 22.1080950 25.9887587 30.7572678 30.8376480 27.1910970 \n",
              "        92         93         94         95         96         97         98 \n",
              "27.5133057 28.8860687 29.0299080 26.9999881 29.0593763 24.8238118 35.7544886 \n",
              "        99        100        101        102        103        104        105 \n",
              "35.0604597 32.2303346 24.4986679 25.5186301 22.7570127 20.2347664 21.4132145 \n",
              "       106        107        108        109        110        111        112 \n",
              "18.4651746 17.0241789 20.7241671 22.5786800 19.6667909 20.4891912 26.3078249 \n",
              "       113        114        115        116        117        118        119 \n",
              "20.5555270 20.4314828 25.0933076 20.6724686 23.1833002 23.5851282 20.6118606 \n",
              "       120        121        122        123        124        125        126 \n",
              "20.6174283 21.7702856 22.4572393 20.4734624 16.1805268 20.4966614 22.4018684 \n",
              "       127        128        129        130        131        132        133 \n",
              "14.5156172 14.9326860 18.5920004 13.7271712 19.7733174 19.1429295 19.9303324 \n",
              "       134        135        136        137        138        139        140 \n",
              "15.5701020 14.1907977 16.8992372 15.7206609 19.0574377 13.4403004 16.0575541 \n",
              "       141        142        143        144        145        146        147 \n",
              "13.0951173  3.3296712 13.8845926 11.2744786  7.8735925 13.1320375 17.3325525 \n",
              "       148        149        150        151        152        153        154 \n",
              " 7.6962799  9.2104776 14.4672043 20.4469068 18.3415940 20.3617725 17.9399787 \n",
              "       155        156        157        158        159        160        161 \n",
              "22.5783357 22.4176200 15.9270593 33.3559304 29.3058463 25.3876828 33.2527441 \n",
              "       162        163        164        165        166        167        168 \n",
              "36.7395662 40.4973683 41.6624964 24.5246023 26.5665606 37.1029733 24.3350841 \n",
              "       169        170        171        172        173        174        175 \n",
              "27.0122213 26.9308012 23.1912155 24.4652428 22.9417242 29.0631106 26.5567233 \n",
              "       176        177        178        179        180        181        182 \n",
              "30.6810561 25.5387181 29.1770203 31.4246377 32.9669933 34.6676408 27.8312905 \n",
              "       183        184        185        186        187        188        189 \n",
              "34.0380294 31.1906180 22.8717976 24.8301986 35.8367516 33.3416406 32.4761921 \n",
              "       190        191        192        193        194        195        196 \n",
              "34.3594673 30.7479186 30.2349231 32.8271360 32.1154910 31.7903554 40.7495804 \n",
              "       197        198        199        200        201        202        203 \n",
              "36.0369133 32.8860371 34.6026892 30.0113710 30.6540026 29.3455338 36.9467888 \n",
              "       204        205        206        207        208        209        210 \n",
              "41.9547540 43.1273795 22.5256888 23.5490266 17.7190820 23.6013419 16.9681886 \n",
              "       211        212        213        214        215        216        217 \n",
              "22.4343986 16.9755497 22.7504072 25.1543363 10.9315516 24.4281260 26.5371908 \n",
              "       218        219        220        221        222        223        224 \n",
              "28.2055833 24.7939717 29.7215753 33.2167117 23.5779068 32.1488569 29.6525676 \n",
              "       225        226        227        228        229        230        231 \n",
              "38.2377790 39.6376508 37.5111021 32.4924085 35.3016529 31.2401259 24.5111114 \n",
              "       232        233        234        235        236        237        238 \n",
              "33.3195639 37.9062221 37.0571546 32.0416543 25.2944554 30.1593474 32.6173881 \n",
              "       239        240        241        242        243        244        245 \n",
              "28.4595259 28.4436017 27.1177379 23.6607330 24.1879079 27.4787796 16.5306074 \n",
              "       246        247        248        249        250        251        252 \n",
              "13.2635140 19.9418714 20.0043752 21.3459843 23.9052290 24.0551354 25.1272905 \n",
              "       253        254        255        256        257        258        259 \n",
              "24.8163637 29.5446859 24.0707886 21.6976585 37.5977572 42.9532376 36.3655226 \n",
              "       260        261        262        263        264        265        266 \n",
              "34.8884393 34.5213582 36.9540611 40.6987198 34.1194974 35.6603341 28.1280786 \n",
              "       267        268        269        270        271        272        273 \n",
              "30.9087649 40.5412916 39.1598326 25.8805970 22.3074174 27.1740575 28.5562570 \n",
              "       274        275        276        277        278        279        280 \n",
              "35.5415987 36.2792952 33.8422348 35.7446263 34.9900124 30.3100790 35.2513413 \n",
              "       281        282        283        284        285        286        287 \n",
              "38.7927388 34.2992045 40.5790228 44.7597643 31.4875753 27.3574413 20.5602288 \n",
              "       288        289        290        291        292        293        294 \n",
              "26.9870801 27.1716723 26.9502382 33.5102460 34.4271180 31.8925690 25.6296896 \n",
              "       295        296        297        298        299        300        301 \n",
              "24.2797329 28.2783502 27.2692216 19.3067494 29.3256931 31.9633387 30.7437024 \n",
              "       302        303        304        305        306        307        308 \n",
              "28.7506332 28.7748977 32.6561760 33.0930156 30.7543407 35.5045024 32.7034420 \n",
              "       309        310        311        312        313        314        315 \n",
              "28.6558462 23.5500484 18.8729942 26.8505192 23.2309601 25.5609860 25.3983138 \n",
              "       316        317        318        319        320        321        322 \n",
              "20.4880260 17.4143819 18.1688362 24.1528765 21.1215515 24.8330190 24.8378026 \n",
              "       323        324        325        326        327        328        329 \n",
              "22.8483091 19.4962594 25.0544708 24.5777277 23.5894750 19.1473769 21.1659277 \n",
              "       330        331        332        333        334        335        336 \n",
              "24.2875813 21.7045636 19.9266729 23.6383248 22.1676063 21.5580741 20.5544255 \n",
              "       337        338        339        340        341        342        343 \n",
              "20.1193284 19.2710956 22.1186028 21.1955056 21.4282326 30.2888872 21.9761604 \n",
              "       344        345        346        347        348        349        350 \n",
              "27.6130725 28.4869398 16.5760892 14.9804461 25.2414471 27.5418748 22.1834854 \n",
              "       351        352        353        354        355        356        357 \n",
              "20.5230338 20.7264987 16.8524926 25.4962173 14.5144771 16.8657674 18.9249723 \n",
              "       358        359        360        361        362        363        364 \n",
              "22.0137029 21.5056350 18.3788707 22.0955090 18.4536160 17.7333695 19.9345661 \n",
              "       365        366        367        368        369        370        371 \n",
              "37.0303690 14.4097729 15.6501011 12.8266646 23.7473910 32.4529799 34.2232791 \n",
              "       372        373        374        375        376        377        378 \n",
              "24.5617287 25.9575486  4.9072802 -0.5102343 24.1793229 16.8058322 19.1039570 \n",
              "       379        380        381        382        383        384        385 \n",
              "14.5076085 15.7031692 12.2447456 17.3076705 12.4053450 12.0323930  3.1073620 \n",
              "       386        387        388        389        390        391        392 \n",
              " 6.7754359  4.9109417  4.2398361  5.4921306 13.2908273 16.3787280 16.4948763 \n",
              "       393        394        395        396        397        398        399 \n",
              " 8.8443811 19.3184104 16.9964396 19.3702223 18.2948455 15.4408666  4.9695018 \n",
              "       400        401        402        403        404        405        406 \n",
              "10.1268010 10.4989281 16.6958546 17.3910728 11.8744605  6.4127891  6.5181009 \n",
              "       407        408        409        410        411        412        413 \n",
              " 7.4041174 19.8740102 13.4843323 20.7940609 17.7500510 19.2404436  3.9418668 \n",
              "       414        415        416        417        418        419        420 \n",
              "12.5100801 -3.1235083 11.6165867 15.5587513  8.0993615  7.8420999 16.5321386 \n",
              "       421        422        423        424        425        426        427 \n",
              "19.3590193 17.9551546 18.7275667 15.8113550 17.4639624 12.3626656 18.9099154 \n",
              "       428        429        430        431        432        433        434 \n",
              "16.2933318 15.9631735 15.0093101 20.1717820 20.6004158 23.5379125 18.8254303 \n",
              "       435        436        437        438        439        440        441 \n",
              "17.7247197 14.7650536 16.8135810 11.1104178  6.4156400 11.9856150 11.4940705 \n",
              "       442        443        444        445        446        447        448 \n",
              "16.2919422 17.8178643 17.0607250 11.7924065 14.0152075 17.4130874 17.2005060 \n",
              "       449        450        451        452        453        454        455 \n",
              "16.5177135 17.0466354 19.1643243 18.7884500 17.7328876 21.5525323 17.7953090 \n",
              "       456        457        458        459        460        461        462 \n",
              "18.0132957 15.3185462 15.5626817 17.3507157 17.6062876 19.3654057 19.3289689 \n",
              "       463        464        465        466        467        468        469 \n",
              "18.8490416 21.6344490 19.4182809 17.6215682 17.0087609 16.6757726 16.2425741 \n",
              "       470        471        472        473        474        475        476 \n",
              "17.7018771 19.3633100 22.3420315 21.6826833 24.9061571 16.0510279 15.9923928 \n",
              "       477        478        479        480        481        482        483 \n",
              "19.6224758 10.9528481 18.4488214 21.1234434 22.7704119 26.4735780 27.9013995 \n",
              "       484        485        486        487        488        489        490 \n",
              "20.4629917 18.9103260 21.5269511 18.8941044 20.6728190 11.4473499  8.1525102 \n",
              "       491        492        493        494        495        496        497 \n",
              " 3.7220389 13.3341135 15.5232582 20.4220185 20.2968956 16.4877068 13.6550914 \n",
              "       498        499        500        501        502        503        504 \n",
              "18.8731772 21.0529801 18.2541876 20.2248555 23.4954956 22.4053283 27.6642672 \n",
              "       505        506 \n",
              "26.1926750 22.4288257 "
            ]
          },
          "metadata": {},
          "output_type": "display_data"
        }
      ],
      "source": [
        "model <- train(medv ~ ., data = df, method = \"lm\", trControl = ctrl)\n",
        "predict(model, df)"
      ]
    },
    {
      "cell_type": "code",
      "execution_count": null,
      "id": "6e0e7675-cb03-4092-890c-2df06b3fe76d",
      "metadata": {
        "vscode": {
          "languageId": "r"
        }
      },
      "outputs": [],
      "source": []
    },
    {
      "cell_type": "markdown",
      "id": "4b83449c-1ab4-4105-a462-16038c903c55",
      "metadata": {},
      "source": [
        "### `caret` for LASSO\n",
        "\n",
        "#### Bias-variance tradeoff"
      ]
    },
    {
      "cell_type": "code",
      "execution_count": 49,
      "id": "e7070507-c890-49bd-a410-fea6298576c4",
      "metadata": {
        "vscode": {
          "languageId": "r"
        }
      },
      "outputs": [
        {
          "data": {
            "image/png": "[encoded data removed]",
            "text/plain": [
              "plot without title"
            ]
          },
          "metadata": {
            "image/png": {
              "height": 420,
              "width": 420
            }
          },
          "output_type": "display_data"
        }
      ],
      "source": [
        "ctrl <- trainControl(method=\"cv\", number = 5)\n",
        "grid <- expand.grid(alpha = 1, lambda = seq(0, 0.1, by=0.001))\n",
        "lasso_fit <- train(medv ~. , data=df, method = \"glmnet\", trControl = ctrl, tuneGrid = grid, standardize= TRUE, family=\"gaussian\")\n",
        "plot(lasso_fit)"
      ]
    }
  ],
  "metadata": {
    "kernelspec": {
      "display_name": "R",
      "language": "R",
      "name": "ir"
    },
    "language_info": {
      "codemirror_mode": "r",
      "file_extension": ".r",
      "mimetype": "text/x-r-source",
      "name": "R",
      "pygments_lexer": "r",
      "version": "4.2.1"
    }
  },
  "nbformat": 4,
  "nbformat_minor": 5
}

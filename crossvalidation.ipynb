{
  "cells": [
    {
      "cell_type": "markdown",
      "id": "8e5206f2-595a-4f2d-8a53-f54da55add44",
      "metadata": {},
      "source": [
        "# cv"
      ]
    },
    {
      "cell_type": "code",
      "execution_count": null,
      "id": "ffc08b2e-9da7-43b5-a298-01c51cb0aa34",
      "metadata": {},
      "outputs": [
        {
          "name": "stderr",
          "output_type": "stream",
          "text": [
            "Loading required package: ISLR2"
          ]
        },
        {
          "name": "stderr",
          "output_type": "stream",
          "text": [
            "Loading required package: dplyr"
          ]
        },
        {
          "name": "stderr",
          "output_type": "stream",
          "text": [
            "\n",
            "Attaching package: 'dplyr'"
          ]
        },
        {
          "name": "stderr",
          "output_type": "stream",
          "text": [
            "The following objects are masked from 'package:stats':\n",
            "\n",
            "    filter, lag"
          ]
        },
        {
          "name": "stderr",
          "output_type": "stream",
          "text": [
            "The following objects are masked from 'package:base':\n",
            "\n",
            "    intersect, setdiff, setequal, union"
          ]
        },
        {
          "name": "stderr",
          "output_type": "stream",
          "text": [
            "Loading required package: tidyr"
          ]
        },
        {
          "name": "stderr",
          "output_type": "stream",
          "text": [
            "Loading required package: readr"
          ]
        },
        {
          "name": "stderr",
          "output_type": "stream",
          "text": [
            "Loading required package: purrr"
          ]
        },
        {
          "name": "stderr",
          "output_type": "stream",
          "text": [
            "Loading required package: glmnet"
          ]
        },
        {
          "name": "stderr",
          "output_type": "stream",
          "text": [
            "Loading required package: Matrix"
          ]
        },
        {
          "name": "stderr",
          "output_type": "stream",
          "text": [
            "\n",
            "Attaching package: 'Matrix'"
          ]
        },
        {
          "name": "stderr",
          "output_type": "stream",
          "text": [
            "The following objects are masked from 'package:tidyr':\n",
            "\n",
            "    expand, pack, unpack"
          ]
        },
        {
          "name": "stderr",
          "output_type": "stream",
          "text": [
            "Loaded glmnet 4.1-8"
          ]
        },
        {
          "name": "stderr",
          "output_type": "stream",
          "text": [
            "Loading required package: caret"
          ]
        },
        {
          "name": "stderr",
          "output_type": "stream",
          "text": [
            "Loading required package: ggplot2"
          ]
        },
        {
          "name": "stderr",
          "output_type": "stream",
          "text": [
            "Loading required package: lattice"
          ]
        },
        {
          "name": "stderr",
          "output_type": "stream",
          "text": [
            "\n",
            "Attaching package: 'caret'"
          ]
        },
        {
          "name": "stderr",
          "output_type": "stream",
          "text": [
            "The following object is masked from 'package:purrr':\n",
            "\n",
            "    lift"
          ]
        },
        {
          "name": "stderr",
          "output_type": "stream",
          "text": [
            "Loading required package: repr"
          ]
        },
        {
          "name": "stderr",
          "output_type": "stream",
          "text": [
            "Loading required package: torch"
          ]
        },
        {
          "name": "stderr",
          "output_type": "stream",
          "text": [
            "Loading required package: mlbench"
          ]
        },
        {
          "name": "stdout",
          "output_type": "stream",
          "text": [
            "  ISLR2   dplyr   tidyr   readr   purrr  glmnet   caret    repr   torch mlbench \n",
            "   TRUE    TRUE    TRUE    TRUE    TRUE    TRUE    TRUE    TRUE    TRUE    TRUE "
          ]
        }
      ],
      "source": [
        "packages <- c(\n",
        "    # Old packages\n",
        "    \"ISLR2\",\n",
        "    \"dplyr\",\n",
        "    \"tidyr\",\n",
        "    \"readr\",\n",
        "    \"purrr\",\n",
        "    \"glmnet\",\n",
        "    \"caret\",\n",
        "    \"repr\",\n",
        "    # NEW\n",
        "    \"torch\",\n",
        "    \"mlbench\"\n",
        ")\n",
        "\n",
        "# renv::install(packages)\n",
        "sapply(packages, require, character.only=TRUE)"
      ]
    },
    {
      "cell_type": "markdown",
      "id": "84c2c40a-3e37-45b5-9293-d244df01851f",
      "metadata": {},
      "source": [
        "## Cross validation"
      ]
    },
    {
      "cell_type": "code",
      "execution_count": null,
      "id": "9294e27c-97fc-43d5-a21c-3ae218b2290a",
      "metadata": {
        "vscode": {
          "languageId": "r"
        }
      },
      "outputs": [
        {
          "name": "stdout",
          "output_type": "stream",
          "text": [
            "     crim zn indus chas   nox    rm  age    dis rad tax ptratio lstat medv\n",
            "1 0.00632 18  2.31    0 0.538 6.575 65.2 4.0900   1 296    15.3  4.98 24.0\n",
            "2 0.02731  0  7.07    0 0.469 6.421 78.9 4.9671   2 242    17.8  9.14 21.6\n",
            "3 0.02729  0  7.07    0 0.469 7.185 61.1 4.9671   2 242    17.8  4.03 34.7\n",
            "4 0.03237  0  2.18    0 0.458 6.998 45.8 6.0622   3 222    18.7  2.94 33.4\n",
            "5 0.06905  0  2.18    0 0.458 7.147 54.2 6.0622   3 222    18.7  5.33 36.2\n",
            "6 0.02985  0  2.18    0 0.458 6.430 58.7 6.0622   3 222    18.7  5.21 28.7"
          ]
        },
        {
          "name": "stdout",
          "output_type": "stream",
          "text": [
            "[1] 506  13"
          ]
        }
      ],
      "source": []
    },
    {
      "cell_type": "markdown",
      "id": "c8cef320-526b-4cc8-bb67-4617f267384b",
      "metadata": {},
      "source": [
        "Split the data into training and testing sets"
      ]
    },
    {
      "cell_type": "code",
      "execution_count": null,
      "id": "a6c2ca3c-5333-47c7-b60b-da2cdaccafab",
      "metadata": {},
      "outputs": [
        {
          "name": "stdout",
          "output_type": "stream",
          "text": [
            "  [1] 203 377 271 151 336 140  87 340 240 143 227 280 423  66 470 224 344 425\n",
            " [19] 439 228 130 416 101 499 148 270 250 337 120 383 108  98 415 200 145 241\n",
            " [37]  86 134 460 426 481 324 122 328 274 395  63 253 207 477 310 366 176  34\n",
            " [55] 131 166  75 459  84 247 428 447 255 502  46 389 418 234 195  99 369 308\n",
            " [73]  90 334  61 331 202 233 299 342 249 405 165 100 404 116  58  92 261  42\n",
            " [91] 298 472  96 468  83 177 300  64  65 489 125 223 154 192 277  76 471 252\n",
            "[109] 407 403  29 168 450 410  79 506 267  25 368 268 322 321 284 316 144 156\n",
            "[127] 158  20 137  71  17 201 346  59  55 466 265 245 315  82 121   7 163 188\n",
            "[145]  57 325 473  13 442 199 430 296  54 235 285   4 209 313 161 117  11  19\n",
            "[163] 505 217  28  69 374 287 272 186 243 205  77 132  81 190 204 496  41   5\n",
            "[181] 475 139 453   3 146 432 278 184  36 483  24 492  43 312  49 462 406 399\n",
            "[199] 142 208 478 293 501 362 412 343 445 135 361 302 491 367 311 456 303 435\n",
            "[217] 180  68 262 229 365 232  14 273 105 251 109 198 479  18 264 378 152 314\n",
            "[235] 113 467 187 498 155 391  31 226  50 446 490   6  38 289 230 147 360 291\n",
            "[253] 392"
          ]
        }
      ],
      "source": [
        "# randomly sample half of the data\n"
      ]
    },
    {
      "cell_type": "code",
      "execution_count": null,
      "id": "9c876478-8b98-4fd2-afb6-6a509614e6b0",
      "metadata": {
        "vscode": {
          "languageId": "r"
        }
      },
      "outputs": [],
      "source": []
    },
    {
      "cell_type": "code",
      "execution_count": null,
      "id": "322d671c-059f-4a18-8d22-b1db8edde4df",
      "metadata": {
        "vscode": {
          "languageId": "r"
        }
      },
      "outputs": [
        {
          "name": "stdout",
          "output_type": "stream",
          "text": [
            "[1] 0"
          ]
        }
      ],
      "source": []
    },
    {
      "cell_type": "code",
      "execution_count": null,
      "id": "fd8ad6c1-c916-4095-a3fe-0ebdd7f8a858",
      "metadata": {
        "vscode": {
          "languageId": "r"
        }
      },
      "outputs": [
        {
          "name": "stdout",
          "output_type": "stream",
          "text": [
            "\n",
            "Call:\n",
            "lm(formula = medv ~ ., data = train)\n",
            "\n",
            "Residuals:\n",
            "    Min      1Q  Median      3Q     Max \n",
            "-9.2410 -2.9861 -0.5769  1.7680 26.2469 \n",
            "\n",
            "Coefficients:\n",
            "              Estimate Std. Error t value Pr(>|t|)    \n",
            "(Intercept)  35.948703   7.436949   4.834 2.39e-06 ***\n",
            "crim         -0.115820   0.043952  -2.635 0.008957 ** \n",
            "zn            0.062357   0.022810   2.734 0.006727 ** \n",
            "indus         0.034325   0.088138   0.389 0.697289    \n",
            "chas          5.537246   1.235382   4.482 1.14e-05 ***\n",
            "nox         -21.494815   6.125044  -3.509 0.000536 ***\n",
            "rm            4.300990   0.697534   6.166 2.94e-09 ***\n",
            "age          -0.001252   0.019692  -0.064 0.949345    \n",
            "dis          -1.536217   0.299013  -5.138 5.76e-07 ***\n",
            "rad           0.235743   0.110289   2.138 0.033568 *  \n",
            "tax          -0.010254   0.006114  -1.677 0.094810 .  \n",
            "ptratio      -0.845825   0.194991  -4.338 2.12e-05 ***\n",
            "lstat        -0.497500   0.078311  -6.353 1.05e-09 ***\n",
            "---\n",
            "Signif. codes:  0 '***' 0.001 '**' 0.01 '*' 0.05 '.' 0.1 ' ' 1\n",
            "\n",
            "Residual standard error: 5.088 on 240 degrees of freedom\n",
            "Multiple R-squared:  0.711, Adjusted R-squared:  0.6966 \n",
            "F-statistic: 49.21 on 12 and 240 DF,  p-value: < 2.2e-16"
          ]
        }
      ],
      "source": []
    },
    {
      "cell_type": "code",
      "execution_count": null,
      "id": "9f8dc4c7-5c1a-46b7-add7-9fd8d88b009a",
      "metadata": {
        "vscode": {
          "languageId": "r"
        }
      },
      "outputs": [],
      "source": []
    },
    {
      "cell_type": "code",
      "execution_count": null,
      "id": "4ff73079-0b94-4c97-87f7-884b596d5a9c",
      "metadata": {
        "vscode": {
          "languageId": "r"
        }
      },
      "outputs": [
        {
          "name": "stdout",
          "output_type": "stream",
          "text": [
            "[1] 21.81484"
          ]
        }
      ],
      "source": []
    },
    {
      "cell_type": "markdown",
      "id": "2c0a7e15-a26c-4bf8-b9d1-560e7383f90f",
      "metadata": {},
      "source": [
        "## k-Fold Cross Validation"
      ]
    },
    {
      "cell_type": "code",
      "execution_count": null,
      "id": "5dedf343-549f-49d6-85c7-e8bcea5ae93d",
      "metadata": {
        "vscode": {
          "languageId": "r"
        }
      },
      "outputs": [
        {
          "name": "stdout",
          "output_type": "stream",
          "text": [
            " [1] 10  7  5  4  3  1 12  2  8 11  6  9"
          ]
        },
        {
          "name": "stdout",
          "output_type": "stream",
          "text": [
            " [1]  8 11 10  1  2  6  3  6 11  1  6  6"
          ]
        },
        {
          "name": "stdout",
          "output_type": "stream",
          "text": [
            "  [1] 5 5 4 5 5 1 3 1 4 1 1 1 1 2 3 2 2 1 3 4 2 1 4 5 2 2 1 5 1 1 1 3 2 1 2 5 3\n",
            " [38] 3 1 4 4 4 2 4 2 3 4 5 4 4 3 4 1 3 3 4 4 4 1 2 5 3 4 2 3 3 5 4 1 1 3 3 3 4\n",
            " [75] 2 1 5 1 2 3 4 3 2 2 2 5 1 2 1 5 3 1 4 3 4 4 3 1 5 5 1 5 3 3 5 5 1 5 2 4 3\n",
            "[112] 3 2 1 5 2 2 1 5 4 1 3 1 2 2 1 2 4 5 1 1 3 3 3 5 2 3 2 2 4 4 5 1 3 5 1 5 4\n",
            "[149] 4 5 4 2 4 5 2 3 3 1 3 1 1 5 4 5 5 1 5 4 1 5 5 2 4 4 2 2 4 2 3 2 1 3 2 4 1\n",
            "[186] 5 5 2 5 5 4 3 2 2 1 5 5 5 5 5 4 1 5 4 3 1 3 1 1 1 1 5 4 5 1 5 3 3 2 5 4 4\n",
            "[223] 4 2 2 5 4 1 2 3 5 4 3 1 4 5 3 4 3 2 1 3 2 2 4 2 3 5 3 4 3 4 2 1 3 4 1 3 5\n",
            "[260] 1 3 2 2 4 4 2 1 5 1 2 3 5 4 5 5 2 5 5 5 5 3 1 5 3 3 3 2 1 1 3 3 3 5 1 4 1\n",
            "[297] 1 4 2 5 5 5 2 2 3 5 2 1 4 3 4 4 5 3 3 2 1 3 1 4 5 4 1 5 1 1 4 1 2 4 5 3 4\n",
            "[334] 4 4 2 5 1 4 4 1 3 1 3 1 2 1 3 1 1 4 1 2 5 3 2 5 3 1 2 4 2 4 3 5 2 2 4 4 2\n",
            "[371] 4 5 3 5 1 3 3 5 4 3 4 5 4 4 2 2 4 4 3 3 4 4 2 1 5 3 1 4 1 2 3 3 1 1 4 2 3\n",
            "[408] 2 1 4 2 4 3 4 1 5 4 4 1 4 1 2 4 1 5 2 1 2 4 3 1 2 2 5 3 5 3 5 4 5 3 2 5 5\n",
            "[445] 1 2 4 3 1 2 3 1 4 3 2 3 5 2 5 4 3 4 3 2 5 4 5 2 4 5 1 4 1 1 2 1 2 5 2 1 5\n",
            "[482] 2 5 4 4 4 3 5 1 3 5 5 5 2 2 2 5 1 1 3 2 5 1 3 5 4"
          ]
        }
      ],
      "source": []
    },
    {
      "cell_type": "code",
      "execution_count": null,
      "id": "eba8af0c-bc04-4ed6-9f7d-13638b708399",
      "metadata": {
        "vscode": {
          "languageId": "r"
        }
      },
      "outputs": [
        {
          "name": "stdout",
          "output_type": "stream",
          "text": [
            "[1] 0"
          ]
        }
      ],
      "source": []
    },
    {
      "cell_type": "code",
      "execution_count": null,
      "id": "09660022-95c1-492c-bbda-21fc214ed287",
      "metadata": {
        "vscode": {
          "languageId": "r"
        }
      },
      "outputs": [
        {
          "name": "stdout",
          "output_type": "stream",
          "text": [
            "[1] 8"
          ]
        }
      ],
      "source": []
    },
    {
      "cell_type": "code",
      "execution_count": null,
      "id": "a445707f-6907-4ebb-8c6d-b85992a5e22f",
      "metadata": {
        "vscode": {
          "languageId": "r"
        }
      },
      "outputs": [
        {
          "name": "stdout",
          "output_type": "stream",
          "text": [
            "[1] 20.07403 19.60952 24.53778 26.29882 32.21119"
          ]
        }
      ],
      "source": []
    },
    {
      "cell_type": "code",
      "execution_count": null,
      "id": "cdc9b1af-7572-468c-aa08-7ee29fd84eb0",
      "metadata": {
        "vscode": {
          "languageId": "r"
        }
      },
      "outputs": [],
      "source": []
    },
    {
      "cell_type": "markdown",
      "id": "ec6fd42b-6c92-41c9-80be-fe5ff8d2ddd4",
      "metadata": {},
      "source": [
        "## Wrapped in a function"
      ]
    },
    {
      "cell_type": "code",
      "execution_count": null,
      "id": "9b016b11-d840-4a2b-b3da-0738f3551c68",
      "metadata": {
        "vscode": {
          "languageId": "r"
        }
      },
      "outputs": [],
      "source": []
    },
    {
      "cell_type": "code",
      "execution_count": null,
      "id": "e288d8fb-ec75-474c-9529-3637fd2ad1d7",
      "metadata": {
        "vscode": {
          "languageId": "r"
        }
      },
      "outputs": [],
      "source": []
    },
    {
      "cell_type": "code",
      "execution_count": null,
      "id": "0ad9dfa4-6771-472f-ad38-37cb77ba165a",
      "metadata": {
        "vscode": {
          "languageId": "r"
        }
      },
      "outputs": [
        {
          "name": "stdout",
          "output_type": "stream",
          "text": [
            "[1] 24.54627"
          ]
        },
        {
          "name": "stdout",
          "output_type": "stream",
          "text": [
            "[1] 85.12845"
          ]
        }
      ],
      "source": []
    },
    {
      "cell_type": "markdown",
      "id": "0cafdc71-4c5f-45a7-ab25-334c3d3aa956",
      "metadata": {},
      "source": [
        "### Using the`caret` package\n",
        "\n",
        "Define the training control for cross validation"
      ]
    },
    {
      "cell_type": "code",
      "execution_count": null,
      "id": "68837600-7b3b-45e4-a58b-e25fcab2a82c",
      "metadata": {
        "vscode": {
          "languageId": "r"
        }
      },
      "outputs": [],
      "source": []
    },
    {
      "cell_type": "code",
      "execution_count": null,
      "id": "03b8b6db-14c4-4fbe-b21e-e3770b100134",
      "metadata": {
        "vscode": {
          "languageId": "r"
        }
      },
      "outputs": [
        {
          "name": "stdout",
          "output_type": "stream",
          "text": [
            "\n",
            "Call:\n",
            "lm(formula = .outcome ~ ., data = dat)\n",
            "\n",
            "Residuals:\n",
            "     Min       1Q   Median       3Q      Max \n",
            "-15.1304  -2.7673  -0.5814   1.9414  26.2526 \n",
            "\n",
            "Coefficients:\n",
            "              Estimate Std. Error t value Pr(>|t|)    \n",
            "(Intercept)  41.617270   4.936039   8.431 3.79e-16 ***\n",
            "crim         -0.121389   0.033000  -3.678 0.000261 ***\n",
            "zn            0.046963   0.013879   3.384 0.000772 ***\n",
            "indus         0.013468   0.062145   0.217 0.828520    \n",
            "chas          2.839993   0.870007   3.264 0.001173 ** \n",
            "nox         -18.758022   3.851355  -4.870 1.50e-06 ***\n",
            "rm            3.658119   0.420246   8.705  < 2e-16 ***\n",
            "age           0.003611   0.013329   0.271 0.786595    \n",
            "dis          -1.490754   0.201623  -7.394 6.17e-13 ***\n",
            "rad           0.289405   0.066908   4.325 1.84e-05 ***\n",
            "tax          -0.012682   0.003801  -3.337 0.000912 ***\n",
            "ptratio      -0.937533   0.132206  -7.091 4.63e-12 ***\n",
            "lstat        -0.552019   0.050659 -10.897  < 2e-16 ***\n",
            "---\n",
            "Signif. codes:  0 '***' 0.001 '**' 0.01 '*' 0.05 '.' 0.1 ' ' 1\n",
            "\n",
            "Residual standard error: 4.798 on 493 degrees of freedom\n",
            "Multiple R-squared:  0.7343,    Adjusted R-squared:  0.7278 \n",
            "F-statistic: 113.5 on 12 and 493 DF,  p-value: < 2.2e-16"
          ]
        }
      ],
      "source": []
    },
    {
      "cell_type": "code",
      "execution_count": null,
      "id": "6e0e7675-cb03-4092-890c-2df06b3fe76d",
      "metadata": {
        "vscode": {
          "languageId": "r"
        }
      },
      "outputs": [],
      "source": []
    },
    {
      "cell_type": "markdown",
      "id": "4b83449c-1ab4-4105-a462-16038c903c55",
      "metadata": {},
      "source": [
        "### `caret` for LASSO\n",
        "\n",
        "#### Bias-variance tradeoff"
      ]
    },
    {
      "cell_type": "code",
      "execution_count": null,
      "id": "e7070507-c890-49bd-a410-fea6298576c4",
      "metadata": {
        "vscode": {
          "languageId": "r"
        }
      },
      "outputs": [
        {
          "data": {
            "image/png": "[encoded data removed]"
          },
          "metadata": {},
          "output_type": "display_data"
        }
      ],
      "source": []
    }
  ],
  "metadata": {
    "kernelspec": {
      "display_name": "Python 3",
      "language": "python",
      "name": "python3"
    }
  },
  "nbformat": 4,
  "nbformat_minor": 5
}

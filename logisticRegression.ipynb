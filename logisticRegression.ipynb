{
  "cells": [
    {
      "cell_type": "markdown",
      "metadata": {},
      "source": [
        "# Week 7"
      ],
      "id": "42fe7ad1-3c74-4f60-a94b-314ab88d635d"
    },
    {
      "cell_type": "code",
      "execution_count": null,
      "metadata": {
        "tags": [],
        "vscode": {
          "languageId": "r"
        }
      },
      "outputs": [],
      "source": [],
      "id": "a18616e9-1605-431e-9980-2e0b6bdaf848"
    },
    {
      "cell_type": "markdown",
      "metadata": {},
      "source": [
        "## Logistic Regression\n",
        "\n",
        "#### Packages we will require this week"
      ],
      "id": "596ba9af-f20d-40f6-b3a8-258c639deb9e"
    },
    {
      "cell_type": "code",
      "execution_count": null,
      "metadata": {
        "tags": [],
        "vscode": {
          "languageId": "r"
        }
      },
      "outputs": [],
      "source": [],
      "id": "c4b51bdf-bba7-43ad-b40c-ccb49ec741d4"
    },
    {
      "cell_type": "markdown",
      "metadata": {},
      "source": [
        "$$\n",
        "\\boxed{y = \\beta_0 + \\beta_1 x_1 + \\dots \\beta_p x_p}\n",
        "$$\n",
        "\n",
        "looking at different loss functions:\n",
        "\n",
        "1.  Least-squares: $$\n",
        "    L(\\beta) = \\sum_{i=1}^n \\| y_i - \\beta_0 - \\beta_1 x_1 - \\dots - \\beta_p x_p\\|^2\n",
        "    $$\n",
        "\n",
        "2.  Penalized least squares/LASSO:\n",
        "\n",
        "$$\n",
        "L(\\beta) = \\sum_{i=1}^n \\| y_i - \\beta_0 - \\beta_1 x_1 - \\dots - \\beta_p x_p\\|^2 + \\lambda \\|{\\beta}\\|_1\n",
        "$$\n",
        "\n",
        "# Classification\n",
        "\n",
        "We will be using the following dataset for the examples here\n",
        "\n",
        "> Breast cancer dataset: This dataset contains measurements of various\n",
        "> characteristics of breast cancer cells, with the goal of predicting\n",
        "> whether a tumor is benign or malignant."
      ],
      "id": "ad1448a0-2224-4564-abee-83b41eea4448"
    },
    {
      "cell_type": "code",
      "execution_count": null,
      "metadata": {
        "tags": [],
        "vscode": {
          "languageId": "r"
        }
      },
      "outputs": [],
      "source": [
        "url <- \"https://archive.ics.uci.edu/ml/machine-learning-databases/breast-cancer-wisconsin/wdbc.data\"\n",
        "col_names <- c(\"id\", \"diagnosis\", paste0(\"feat\", 1:30))\n",
        "df <- read_csv(\n",
        "    url, col_names, col_types = cols()\n",
        "    ) %>% \n",
        "    select(-id) %>% \n",
        "    mutate(outcome = ifelse(diagnosis == \"M\", 1, 0)) %>%\n",
        "    select(-diagnosis)"
      ],
      "id": "b8f4196a-e216-4f57-bdc2-70f4071d9467"
    },
    {
      "cell_type": "code",
      "execution_count": null,
      "metadata": {
        "tags": [],
        "vscode": {
          "languageId": "r"
        }
      },
      "outputs": [
        {
          "output_type": "stream",
          "name": "stdout",
          "text": [
            "# A tibble: 6 × 31\n",
            "  feat1 feat2 feat3 feat4  feat5  feat6  feat7  feat8 feat9 feat10 feat11 feat12\n",
            "  <dbl> <dbl> <dbl> <dbl>  <dbl>  <dbl>  <dbl>  <dbl> <dbl>  <dbl>  <dbl>  <dbl>\n",
            "1  18.0  10.4 123.  1001  0.118  0.278  0.300  0.147  0.242 0.0787  1.10   0.905\n",
            "2  20.6  17.8 133.  1326  0.0847 0.0786 0.0869 0.0702 0.181 0.0567  0.544  0.734\n",
            "3  19.7  21.2 130   1203  0.110  0.160  0.197  0.128  0.207 0.0600  0.746  0.787\n",
            "4  11.4  20.4  77.6  386. 0.142  0.284  0.241  0.105  0.260 0.0974  0.496  1.16 \n",
            "5  20.3  14.3 135.  1297  0.100  0.133  0.198  0.104  0.181 0.0588  0.757  0.781\n",
            "6  12.4  15.7  82.6  477. 0.128  0.17   0.158  0.0809 0.209 0.0761  0.334  0.890\n",
            "# ℹ 19 more variables: feat13 <dbl>, feat14 <dbl>, feat15 <dbl>, feat16 <dbl>,\n",
            "#   feat17 <dbl>, feat18 <dbl>, feat19 <dbl>, feat20 <dbl>, feat21 <dbl>,\n",
            "#   feat22 <dbl>, feat23 <dbl>, feat24 <dbl>, feat25 <dbl>, feat26 <dbl>,\n",
            "#   feat27 <dbl>, feat28 <dbl>, feat29 <dbl>, feat30 <dbl>, outcome <dbl>"
          ]
        }
      ],
      "source": [
        "head(df)"
      ],
      "id": "4a38d510-7126-4f63-bdd0-6ff787dec9c7"
    },
    {
      "cell_type": "markdown",
      "metadata": {},
      "source": [
        "The problem with linear regression for binary responses\n",
        "\n",
        "Let’s start by looking at an example. Imagine we have a dataset with a\n",
        "binary response variable (0 or 1) and a continuous predictor variable.\n",
        "We might be tempted to use linear regression with the lm() function to\n",
        "model the relationship between the predictor and response variables.\n",
        "After all, linear regression is a powerful and flexible tool that can be\n",
        "used to model a wide range of relationships between variables.\n",
        "\n",
        "However, when we use linear regression with a binary response variable,\n",
        "we quickly run into a problem. The linear regression model will give us\n",
        "a predicted value for the response variable for any given value of the\n",
        "predictor variable, but this predicted value is not a probability. The\n",
        "predicted value can take on any value between 0 and 1, but it doesn’t\n",
        "necessarily represent the probability of the response variable being a\n",
        "1.\n",
        "\n",
        "To see why this is a problem, consider the following scenario. Suppose\n",
        "we have a dataset with a binary response variable and a continuous\n",
        "predictor variable. We fit a linear regression model to the data using\n",
        "the lm() function in R, and we get a predicted value of 0.8 for the\n",
        "response variable when the predictor variable has a value of 1.5. What\n",
        "does this predicted value of 0.8 actually mean?\n",
        "\n",
        "If we interpret the predicted value as a probability, we might conclude\n",
        "that the probability of the response variable being a 1 when the\n",
        "predictor variable has a value of 1.5 is 0.8. But this interpretation is\n",
        "incorrect. The predicted value from linear regression is not a\n",
        "probability, and it can take on values greater than 1 or less than 0."
      ],
      "id": "bdc34de9-38b7-43c3-9ca3-b22a6c50bc92"
    },
    {
      "cell_type": "code",
      "execution_count": null,
      "metadata": {
        "tags": [],
        "vscode": {
          "languageId": "r"
        }
      },
      "outputs": [
        {
          "output_type": "stream",
          "name": "stdout",
          "text": [
            "\n",
            "Call:\n",
            "lm(formula = outcome ~ ., data = df)\n",
            "\n",
            "Residuals:\n",
            "     Min       1Q   Median       3Q      Max \n",
            "-0.60241 -0.16209 -0.02705  0.12982  0.82295 \n",
            "\n",
            "Coefficients:\n",
            "              Estimate Std. Error t value Pr(>|t|)    \n",
            "(Intercept) -2.0218117  0.4280072  -4.724 2.96e-06 ***\n",
            "feat1       -0.2177721  0.1735089  -1.255 0.209985    \n",
            "feat2        0.0045455  0.0079439   0.572 0.567426    \n",
            "feat3        0.0237399  0.0250985   0.946 0.344641    \n",
            "feat4        0.0003178  0.0005253   0.605 0.545391    \n",
            "feat5        0.0846891  2.0172759   0.042 0.966529    \n",
            "feat6       -4.2220353  1.3336803  -3.166 0.001635 ** \n",
            "feat7        1.3979973  1.0458611   1.337 0.181887    \n",
            "feat8        2.1418330  1.9791819   1.082 0.279657    \n",
            "feat9        0.1027092  0.7427382   0.138 0.890067    \n",
            "feat10       0.0332616  5.5722693   0.006 0.995240    \n",
            "feat11       0.4349559  0.3104682   1.401 0.161800    \n",
            "feat12      -0.0067585  0.0368439  -0.183 0.854525    \n",
            "feat13      -0.0225203  0.0411183  -0.548 0.584129    \n",
            "feat14      -0.0009232  0.0013978  -0.660 0.509235    \n",
            "feat15      15.8543207  6.6248737   2.393 0.017046 *  \n",
            "feat16       0.0649034  2.1694829   0.030 0.976145    \n",
            "feat17      -3.5654680  1.3007522  -2.741 0.006327 ** \n",
            "feat18      10.5679513  5.4520354   1.938 0.053103 .  \n",
            "feat19       1.6973407  2.7276006   0.622 0.534019    \n",
            "feat20      -7.1464402 11.6764096  -0.612 0.540769    \n",
            "feat21       0.1951831  0.0579677   3.367 0.000814 ***\n",
            "feat22       0.0071594  0.0069489   1.030 0.303339    \n",
            "feat23      -0.0024351  0.0059360  -0.410 0.681807    \n",
            "feat24      -0.0010112  0.0003197  -3.163 0.001648 ** \n",
            "feat25       0.5428569  1.4346393   0.378 0.705288    \n",
            "feat26       0.0671583  0.3830830   0.175 0.860902    \n",
            "feat27       0.3811912  0.2686173   1.419 0.156453    \n",
            "feat28       0.4643099  0.9142253   0.508 0.611751    \n",
            "feat29       0.5567875  0.4943014   1.126 0.260493    \n",
            "feat30       4.3034831  2.3832134   1.806 0.071517 .  \n",
            "---\n",
            "Signif. codes:  0 '***' 0.001 '**' 0.01 '*' 0.05 '.' 0.1 ' ' 1\n",
            "\n",
            "Residual standard error: 0.2362 on 538 degrees of freedom\n",
            "Multiple R-squared:  0.7743,    Adjusted R-squared:  0.7617 \n",
            "F-statistic: 61.53 on 30 and 538 DF,  p-value: < 2.2e-16"
          ]
        }
      ],
      "source": [
        "reg_model <- lm(outcome ~ ., df)\n",
        "summary(reg_model)"
      ],
      "id": "11fd320a-125e-48f8-af69-5b29bc153055"
    },
    {
      "cell_type": "code",
      "execution_count": null,
      "metadata": {
        "tags": [],
        "vscode": {
          "languageId": "r"
        }
      },
      "outputs": [],
      "source": [
        "n <- 100\n",
        "new_patients <- data.frame(matrix(rnorm(30 * n), nrow = n))\n",
        "colnames(new_patients) <- paste0(\"feat\", 1:30)\n",
        "new_predictions <- predict(reg_model, newdata = new_patients, type = \"response\")"
      ],
      "id": "ec47aeb1-fd22-4c90-94ce-e7c757c1e6e8"
    },
    {
      "cell_type": "code",
      "execution_count": null,
      "metadata": {
        "tags": [],
        "vscode": {
          "languageId": "r"
        }
      },
      "outputs": [
        {
          "output_type": "stream",
          "name": "stdout",
          "text": [
            "         1          2          3          4          5          6 \n",
            " -8.648326   6.425992  15.713827  48.926659  25.046373 -23.849776 "
          ]
        }
      ],
      "source": [
        "new_predictions %>% head()"
      ],
      "id": "e097283d-d7eb-450a-add4-ab472d9efe43"
    },
    {
      "cell_type": "code",
      "execution_count": null,
      "metadata": {
        "tags": [],
        "vscode": {
          "languageId": "r"
        }
      },
      "outputs": [
        {
          "output_type": "display_data",
          "metadata": {},
          "data": {
            "image/png": "[encoded data removed]"
          }
        }
      ],
      "source": [
        "boxplot(new_predictions)"
      ],
      "id": "e64da2ac-a15f-4884-ac15-fbf18466964d"
    },
    {
      "cell_type": "markdown",
      "metadata": {},
      "source": [
        "$$\n",
        "\\newcommand{\\logodds}{\\mathop{\\log\\text{-odds}}}\n",
        "$$\n",
        "\n",
        "$$\n",
        "\\begin{aligned}\n",
        "\\logodds(p(x)) = b_0 + b_1 x\\\\ \\\\ \\\\ \\\\\n",
        "p(x) = \\frac{1}{1 + \\exp(\\beta_0 + \\beta_1 x)}\n",
        "\\end{aligned}\n",
        "$$\n",
        "\n",
        "## The need for logistic regression\n",
        "\n",
        "So, what do we do when we have a binary response variable and we want to\n",
        "model the relationship between the predictor and response variables?\n",
        "This is where logistic regression comes in. Logistic regression is a\n",
        "type of generalized linear model that is specifically designed for\n",
        "binary response variables.\n",
        "\n",
        "The main idea behind logistic regression is to transform the predicted\n",
        "values from linear regression so that they represent probabilities. We\n",
        "do this using a function called the logistic function, which maps any\n",
        "value between negative infinity and positive infinity to a value between\n",
        "0 and 1. The logistic function is a sigmoidal curve that looks like an\n",
        "elongated S-shape. By applying the logistic function to the predicted\n",
        "values from linear regression, we can transform them into probabilities\n",
        "that represent the probability of the response variable being a 1.\n",
        "\n",
        "In the next section, we’ll dive into the details of logistic regression\n",
        "and see how it works in practice using the breast cancer dataset.\n",
        "\n",
        "#### Odds and odds ratios\n",
        "\n",
        "Let’s start by defining the odds of an event occurring. The odds of an\n",
        "event occurring are defined as the probability of the event occurring\n",
        "divided by the probability of the event not occurring. For example, if\n",
        "the probability of a basketball team winning a game is 0.6, then the\n",
        "odds of the team winning the game are 0.6/0.4 = 1.5.\n",
        "\n",
        "Odds ratios are a way to compare the odds of an event occurring between\n",
        "two different groups. The odds ratio is defined as the ratio of the odds\n",
        "of an event occurring in one group to the odds of the event occurring in\n",
        "another group. For example, if the odds of a basketball team winning a\n",
        "game are 1.5 in one group and 2.0 in another group, then the odds ratio\n",
        "of the first group to the second group is 1.5/2.0 = 0.75."
      ],
      "id": "4ccac5a3-a5f2-41e6-af47-3bdf9e630256"
    },
    {
      "cell_type": "code",
      "execution_count": null,
      "metadata": {
        "tags": [],
        "vscode": {
          "languageId": "r"
        }
      },
      "outputs": [
        {
          "output_type": "stream",
          "name": "stdout",
          "text": [
            "Odds group 1: 1.3 "
          ]
        },
        {
          "output_type": "stream",
          "name": "stdout",
          "text": [
            "Odds group 2: 1.7 "
          ]
        },
        {
          "output_type": "stream",
          "name": "stdout",
          "text": [
            "Odds ratio: 0.76 "
          ]
        }
      ],
      "source": [
        "set.seed(123)\n",
        "binary_var <- rbinom(100, size = 1, prob = 0.6)\n",
        "group_var <- sample(1:2, size = 100, replace = TRUE)\n",
        "odds_group1 <- sum(binary_var[group_var == 1]) / sum(!binary_var[group_var == 1])\n",
        "odds_group2 <- sum(binary_var[group_var == 2]) / sum(!binary_var[group_var == 2])\n",
        "odds_ratio <- odds_group1 / odds_group2\n",
        "cat(paste(\"Odds group 1:\", round(odds_group1, 2), \"\\n\"))"
      ],
      "id": "deccf97f-d449-4b78-b907-8b813af58559"
    },
    {
      "cell_type": "markdown",
      "metadata": {},
      "source": [
        "#### Logistic regression model\n",
        "\n",
        "Now let’s move on to the logistic regression model. The logistic\n",
        "regression model is a type of generalized linear model that models the\n",
        "probability of an event occurring as a function of one or more predictor\n",
        "variables. The logistic regression model uses the logistic function,\n",
        "also known as the sigmoid function, to model the relationship between\n",
        "the predictor variables and the probability of the event occurring.\n",
        "\n",
        "**The sigmoid function is given as follows**\n",
        "\n",
        "$$\n",
        "\\sigma(x) = \\frac{1}{1 + e^{-x}}\n",
        "$$"
      ],
      "id": "3cb3d791-92f1-48a3-a378-045dd199e4ff"
    },
    {
      "cell_type": "code",
      "execution_count": null,
      "metadata": {
        "tags": [],
        "vscode": {
          "languageId": "r"
        }
      },
      "outputs": [
        {
          "output_type": "display_data",
          "metadata": {},
          "data": {
            "image/png": "[encoded data removed]"
          }
        }
      ],
      "source": [
        "sigmoid <- \\(x)  1 / (1 + exp(-x))\n",
        "\n",
        "curve(sigmoid, -10, 10, ylab=\"sigmoid(x)\")"
      ],
      "id": "68192819-b542-424a-a6d7-dcf786cf16f1"
    },
    {
      "cell_type": "markdown",
      "metadata": {},
      "source": [
        "In logistic regression, the underlying model is assumed to be of the\n",
        "form\n",
        "\n",
        "$$\n",
        "\\boxed{p(x) = \\sigma\\Big(\\beta_0 + \\beta_1 x\\Big) = \\frac{1}{1 + \\exp({-\\beta_0 - \\beta_1 x})}}\n",
        "$$\n",
        "\n",
        "where $p(x)$ where is the probability of the event occurring given the\n",
        "value of the predictor variable $x$, and $b0$ and $b1$ are the\n",
        "**intercept** and **slope** coefficients of the logistic regression\n",
        "model, respectively.\n",
        "\n",
        "> $p(x)$ is gauranteed to be a probability for all values of $x$.\n",
        "\n",
        "Notice how this is similar to **linear regression** which has $$\n",
        "y(x) = \\beta_0 + \\beta_1 x\n",
        "$$\n",
        "\n",
        "The logistic function has an S-shaped curve and maps any real-valued\n",
        "input to a probability between 0 and 1. As such, the logistic regression\n",
        "model is well-suited for modeling binary response variables, where the\n",
        "goal is to predict the probability of an event occurring (e.g., whether\n",
        "a customer will buy a product or not).m\n",
        "\n",
        "## Logistic regression example\n",
        "\n",
        "The `glm()` function fits a generalized linear model, which includes\n",
        "logistic regression as a special case."
      ],
      "id": "d6bd21e1-8425-4759-b8cf-5cd31b343edb"
    },
    {
      "cell_type": "code",
      "execution_count": null,
      "metadata": {},
      "outputs": [],
      "source": [
        "set.seed(123)\n",
        "x <- rnorm(1000)\n",
        "y <- rbinom(1000, size = 1, prob = exp(0.5 + 0.8*x)/(1 + exp(0.5 + 0.8*x)))"
      ],
      "id": "755ebfaf-9e83-4880-be5e-19b73263c445"
    },
    {
      "cell_type": "code",
      "execution_count": null,
      "metadata": {},
      "outputs": [
        {
          "output_type": "stream",
          "name": "stdout",
          "text": [
            "[1] 1 1 1 1 1 1"
          ]
        }
      ],
      "source": [
        "y %>% head()"
      ],
      "id": "8e9cfc27-1500-4f8a-9c98-696c838acc6e"
    },
    {
      "cell_type": "code",
      "execution_count": null,
      "metadata": {},
      "outputs": [
        {
          "output_type": "stream",
          "name": "stdout",
          "text": [
            "\n",
            "Call:\n",
            "glm(formula = y ~ x, family = binomial())\n",
            "\n",
            "Deviance Residuals: \n",
            "    Min       1Q   Median       3Q      Max  \n",
            "-2.1935  -1.1691   0.6904   0.9635   1.8280  \n",
            "\n",
            "Coefficients:\n",
            "            Estimate Std. Error z value Pr(>|z|)    \n",
            "(Intercept)  0.49917    0.06916   7.218 5.29e-13 ***\n",
            "x            0.73716    0.07696   9.578  < 2e-16 ***\n",
            "---\n",
            "Signif. codes:  0 '***' 0.001 '**' 0.01 '*' 0.05 '.' 0.1 ' ' 1\n",
            "\n",
            "(Dispersion parameter for binomial family taken to be 1)\n",
            "\n",
            "    Null deviance: 1335.7  on 999  degrees of freedom\n",
            "Residual deviance: 1228.5  on 998  degrees of freedom\n",
            "AIC: 1232.5\n",
            "\n",
            "Number of Fisher Scoring iterations: 4"
          ]
        }
      ],
      "source": [
        "model <- glm(y ~ x, family = binomial())\n",
        "summary(model)"
      ],
      "id": "ba68158f-5ba0-4d3a-aff4-a7f7c140c176"
    },
    {
      "cell_type": "code",
      "execution_count": null,
      "metadata": {},
      "outputs": [
        {
          "output_type": "stream",
          "name": "stdout",
          "text": [
            "(Intercept) \n",
            " 0.02778092 "
          ]
        }
      ],
      "source": [
        "x_test <- -5.5\n",
        "sigmoid(coef(model)[1] + coef(model)[2] * x_test)"
      ],
      "id": "f628d7d5-12c2-4bf9-a28e-997f4fb5aa3a"
    },
    {
      "cell_type": "code",
      "execution_count": null,
      "metadata": {},
      "outputs": [
        {
          "output_type": "stream",
          "name": "stdout",
          "text": [
            "         1 \n",
            "0.02778092 "
          ]
        }
      ],
      "source": [
        "predict(model, newdata = data.frame(x=x_test), type=\"response\")"
      ],
      "id": "7fc04bf7-fc0b-416a-8b1c-f33902623911"
    },
    {
      "cell_type": "code",
      "execution_count": null,
      "metadata": {},
      "outputs": [],
      "source": [
        "new_x <- seq(-2, 2, by = 0.1)\n",
        "p1 <- predict(model, data.frame(x=new_x))\n",
        "p2 <- predict(model, data.frame(x=new_x), type=\"response\")"
      ],
      "id": "b4475019-a3cb-49ae-a017-88b2fca37ace"
    },
    {
      "cell_type": "code",
      "execution_count": null,
      "metadata": {
        "tags": []
      },
      "outputs": [
        {
          "output_type": "display_data",
          "metadata": {},
          "data": {
            "image/png": "[encoded data removed]"
          }
        }
      ],
      "source": [
        "boxplot(p1, p2)"
      ],
      "id": "8bc63cd9-cc3c-414d-8afe-11dcfda701b0"
    },
    {
      "cell_type": "markdown",
      "metadata": {},
      "source": [
        "#### Logistic regression for breast cancer\n",
        "\n",
        "Let’s start by fitting a logistic regression model to the breast cancer\n",
        "dataset using the `glm()` function in R."
      ],
      "id": "6b26d62c-9a7e-43c3-b7e8-9120a28e52a6"
    },
    {
      "cell_type": "code",
      "execution_count": null,
      "metadata": {},
      "outputs": [],
      "source": [
        "df <- df %>% mutate_at(\"outcome\", factor)"
      ],
      "id": "3e30e997-c42e-49c8-9a5c-65bd75c947b3"
    },
    {
      "cell_type": "code",
      "execution_count": null,
      "metadata": {},
      "outputs": [
        {
          "output_type": "stream",
          "name": "stderr",
          "text": [
            "Warning: glm.fit: algorithm did not converge"
          ]
        },
        {
          "output_type": "stream",
          "name": "stderr",
          "text": [
            "Warning: glm.fit: fitted probabilities numerically 0 or 1 occurred"
          ]
        },
        {
          "output_type": "stream",
          "name": "stdout",
          "text": [
            "\n",
            "Call:\n",
            "glm(formula = outcome ~ ., family = binomial(), data = df)\n",
            "\n",
            "Deviance Residuals: \n",
            "   Min      1Q  Median      3Q     Max  \n",
            " -8.49   -8.49   -8.49    8.49    8.49  \n",
            "\n",
            "Coefficients:\n",
            "              Estimate Std. Error z value Pr(>|z|)    \n",
            "(Intercept) -2.881e+06  2.816e+05 -10.233  < 2e-16 ***\n",
            "feat1        2.427e+06  2.693e+05   9.014  < 2e-16 ***\n",
            "feat2        1.958e+05  1.471e+04  13.313  < 2e-16 ***\n",
            "feat3        1.473e+06  2.464e+04  59.791  < 2e-16 ***\n",
            "feat4       -1.301e+05  3.907e+03 -33.301  < 2e-16 ***\n",
            "feat5       -1.525e+08  8.361e+06 -18.234  < 2e-16 ***\n",
            "feat6       -6.428e+06  3.213e+06  -2.001  0.04539 *  \n",
            "feat7        1.042e+06  1.408e+06   0.740  0.45959    \n",
            "feat8       -1.716e+07  5.382e+06  -3.188  0.00143 ** \n",
            "feat9        4.049e+07  7.772e+05  52.093  < 2e-16 ***\n",
            "feat10      -4.233e+07  2.169e+06 -19.519  < 2e-16 ***\n",
            "feat11       3.328e+07  1.169e+06  28.478  < 2e-16 ***\n",
            "feat12       6.368e+06  2.005e+05  31.763  < 2e-16 ***\n",
            "feat13       1.701e+06  4.720e+04  36.032  < 2e-16 ***\n",
            "feat14      -6.393e+05  1.835e+04 -34.840  < 2e-16 ***\n",
            "feat15       7.492e+08  1.224e+07  61.213  < 2e-16 ***\n",
            "feat16      -1.773e+08  5.732e+06 -30.931  < 2e-16 ***\n",
            "feat17       1.529e+08  5.340e+06  28.624  < 2e-16 ***\n",
            "feat18      -1.260e+09  4.012e+07 -31.398  < 2e-16 ***\n",
            "feat19       2.890e+08  4.126e+06  70.055  < 2e-16 ***\n",
            "feat20       1.512e+09  6.597e+07  22.921  < 2e-16 ***\n",
            "feat21      -6.130e+06  2.143e+05 -28.606  < 2e-16 ***\n",
            "feat22      -5.832e+05  2.437e+04 -23.935  < 2e-16 ***\n",
            "feat23      -3.538e+05  1.219e+04 -29.023  < 2e-16 ***\n",
            "feat24       8.950e+04  2.741e+03  32.658  < 2e-16 ***\n",
            "feat25      -2.161e+07  3.298e+06  -6.553 5.65e-11 ***\n",
            "feat26       8.986e+06  3.999e+05  22.470  < 2e-16 ***\n",
            "feat27      -3.028e+07  1.523e+06 -19.875  < 2e-16 ***\n",
            "feat28       1.431e+08  5.471e+06  26.162  < 2e-16 ***\n",
            "feat29      -2.474e+07  3.392e+05 -72.923  < 2e-16 ***\n",
            "feat30      -3.698e+07  5.340e+06  -6.926 4.32e-12 ***\n",
            "---\n",
            "Signif. codes:  0 '***' 0.001 '**' 0.01 '*' 0.05 '.' 0.1 ' ' 1\n",
            "\n",
            "(Dispersion parameter for binomial family taken to be 1)\n",
            "\n",
            "    Null deviance:   751.44  on 568  degrees of freedom\n",
            "Residual deviance: 32006.76  on 538  degrees of freedom\n",
            "AIC: 32069\n",
            "\n",
            "Number of Fisher Scoring iterations: 25"
          ]
        }
      ],
      "source": [
        "model <- glm(outcome ~ ., data = df, family = binomial())"
      ],
      "id": "20dc4d7a-9a9f-413f-b246-6f7ca011cf64"
    },
    {
      "cell_type": "markdown",
      "metadata": {},
      "source": [
        "------------------------------------------------------------------------\n",
        "\n",
        "The output of the summary() function provides a summary of the model,\n",
        "including the coefficients of each predictor, their standard errors, and\n",
        "the corresponding p-values. The coefficients represent the log odds\n",
        "ratio of the response variable for each predictor. We can exponentiate\n",
        "the coefficients to get the odds ratios:m"
      ],
      "id": "71997484-8a48-48c0-809f-b07ba26c20d1"
    },
    {
      "cell_type": "code",
      "execution_count": null,
      "metadata": {},
      "outputs": [
        {
          "output_type": "stream",
          "name": "stdout",
          "text": [
            "           1 \n",
            "2.220446e-16 "
          ]
        }
      ],
      "source": [
        "new_patient <- data.frame(matrix(rnorm(30), nrow = 1))\n",
        "names(new_patient) <- paste0(\"feat\", 1:30)\n",
        "predict(model, newdata = new_patient, type = \"response\")"
      ],
      "id": "b29d885b-d229-43fa-9889-226a558e892c"
    }
  ],
  "nbformat": 4,
  "nbformat_minor": 5,
  "metadata": {
    "kernelspec": {
      "display_name": "Python 3",
      "language": "python",
      "name": "python3"
    }
  }
}